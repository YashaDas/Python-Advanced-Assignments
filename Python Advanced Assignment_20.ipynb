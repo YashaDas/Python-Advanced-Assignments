{
 "cells": [
  {
   "cell_type": "markdown",
   "id": "4c25d5cb",
   "metadata": {},
   "source": [
    "# Python Advanced Assignment_20"
   ]
  },
  {
   "cell_type": "markdown",
   "id": "abb13740",
   "metadata": {},
   "source": [
    "### 1. Compare and contrast the float and Decimal classes' benefits and drawbacks."
   ]
  },
  {
   "cell_type": "markdown",
   "id": "1488aece",
   "metadata": {},
   "source": [
    "##### ANSWER:"
   ]
  },
  {
   "cell_type": "markdown",
   "id": "7cfe43a9",
   "metadata": {},
   "source": [
    "Both the ``float`` and ``decimal`` types store numerical values in Python.\n",
    "\n",
    "Use ``floats`` when convenience and speed matter. A ``float`` gives you an approximation of the number you declare.\n",
    "\n",
    "Use ``decimals`` when precision matters. ``Decimals`` can suffer from their own precision issues, but generally, ``decimals`` are more precise than ``floats``. The performance difference between ``float`` and ``decimal``, with Python 3, is not outlandish, and in my experience, the precision benefits of a ``decimal`` outweigh the performance benefits of a ``float``."
   ]
  },
  {
   "cell_type": "markdown",
   "id": "6dd7dae6",
   "metadata": {},
   "source": [
    "### 2. Decimal('1.200') and Decimal('1.2') are two objects to consider. In what sense are these the same object? Are these just two ways of representing the exact same value, or do they correspond to different internal states?"
   ]
  },
  {
   "cell_type": "markdown",
   "id": "43c86227",
   "metadata": {},
   "source": [
    "##### ANSWER:"
   ]
  },
  {
   "cell_type": "markdown",
   "id": "1eaae6b7",
   "metadata": {},
   "source": [
    "Both values are same but the internal representation is different when it comes to storage. Both the values differ in terms of precsion, __``Decimal('1.200')``__ is internally stored as __``1.200``__ whereas __``Decimal('1.2')``__ is internally stored as __``1.2``__ ."
   ]
  },
  {
   "cell_type": "markdown",
   "id": "e06f239b",
   "metadata": {},
   "source": [
    "### 3. What happens if the equality of Decimal('1.200') and Decimal('1.2') is checked?"
   ]
  },
  {
   "cell_type": "markdown",
   "id": "9bf68c9e",
   "metadata": {},
   "source": [
    "##### ANSWER:"
   ]
  },
  {
   "cell_type": "markdown",
   "id": "3ce44a98",
   "metadata": {},
   "source": [
    "If the equality of __``Decimal('1.200')``__ and __``Decimal('1.2')``__ are checked then both values will checked out to be equal, but they differ in precision."
   ]
  },
  {
   "cell_type": "markdown",
   "id": "10dc1297",
   "metadata": {},
   "source": [
    "### 4. Why is it preferable to start a Decimal object with a string rather than a floating-point value?"
   ]
  },
  {
   "cell_type": "markdown",
   "id": "434f9946",
   "metadata": {},
   "source": [
    "##### ANSWER:"
   ]
  },
  {
   "cell_type": "markdown",
   "id": "429660c4",
   "metadata": {},
   "source": [
    "It is preferable to start a Decimal Object with a string rather than a Floating-point value because a Floating-point value is converted to Decimal format. Decimal can store float value with absolute precision. But when float value is given as Decimal object, it first has to be converted from floating-point value which might already have a rounding error."
   ]
  },
  {
   "cell_type": "markdown",
   "id": "06141765",
   "metadata": {},
   "source": [
    "### 5. In an arithmetic phrase, how simple is it to combine Decimal objects with integers?"
   ]
  },
  {
   "cell_type": "markdown",
   "id": "51aefe5c",
   "metadata": {},
   "source": [
    "##### ANSWER:"
   ]
  },
  {
   "cell_type": "markdown",
   "id": "a260b576",
   "metadata": {},
   "source": [
    "In an arithmetic phase, we can combine Decimal Objects with Integers by using  __``Decimal()``__."
   ]
  },
  {
   "cell_type": "markdown",
   "id": "dfb7ceb3",
   "metadata": {},
   "source": [
    "### 6. Can Decimal objects and floating-point values be combined easily?"
   ]
  },
  {
   "cell_type": "markdown",
   "id": "b3700f78",
   "metadata": {},
   "source": [
    "##### ANSWER:"
   ]
  },
  {
   "cell_type": "markdown",
   "id": "67c0bd0b",
   "metadata": {},
   "source": [
    "Arithmetic operations like adding, subtracting or multiplying a decimal object by a floating-point values generates an error. To do these kinds of operations, the floating-point values has to be converted to Decimal."
   ]
  },
  {
   "cell_type": "markdown",
   "id": "967f29bb",
   "metadata": {},
   "source": [
    "### 7. Using the Fraction class but not the Decimal class, give an example of a quantity that can be expressed with absolute precision."
   ]
  },
  {
   "cell_type": "markdown",
   "id": "919a13cb",
   "metadata": {},
   "source": [
    "##### ANSWER:"
   ]
  },
  {
   "cell_type": "markdown",
   "id": "4f0e6a2c",
   "metadata": {},
   "source": [
    "Using the Fraction Class but not the Decimal Class, an example of a quantity that can be expressed with absolute precision is  __-__  The value of __``0.5``__ will be represented as __``½``__ ."
   ]
  },
  {
   "cell_type": "markdown",
   "id": "db7d97ee",
   "metadata": {},
   "source": [
    "### 8. Describe a quantity that can be accurately expressed by the Decimal or Fraction classes but not by a floating-point value."
   ]
  },
  {
   "cell_type": "markdown",
   "id": "5e61d2b7",
   "metadata": {},
   "source": [
    "##### ANSWER:"
   ]
  },
  {
   "cell_type": "markdown",
   "id": "96f2e826",
   "metadata": {},
   "source": [
    "A quantity that can be accurately expressed by the Decimal or Fraction classes but not by a Floating-point value is __``0.1``__"
   ]
  },
  {
   "cell_type": "markdown",
   "id": "5336b44d",
   "metadata": {},
   "source": [
    "### 9. Consider the following two fraction objects: Fraction(1, 2) and Fraction(1, 2). (5, 10). Is the internal state of these two objects the same? Why do you think that is?"
   ]
  },
  {
   "cell_type": "markdown",
   "id": "5abd6e0f",
   "metadata": {},
   "source": [
    "##### ANSWER:"
   ]
  },
  {
   "cell_type": "markdown",
   "id": "bca2d5ec",
   "metadata": {},
   "source": [
    "The internal states of the following two fraction objects, that are, __``Fraction(1, 2)``__ and __``Fraction(1, 2). (5, 10)``__ will be same. That is beacuse both of these fraction objects will be reduced to __``1/2``__ ."
   ]
  },
  {
   "cell_type": "markdown",
   "id": "23546a4c",
   "metadata": {},
   "source": [
    "### 10. How do the Fraction class and the integer type (int) relate to each other? Containment or inheritance?"
   ]
  },
  {
   "cell_type": "markdown",
   "id": "a6a0f7ce",
   "metadata": {},
   "source": [
    "##### ANSWER:"
   ]
  },
  {
   "cell_type": "markdown",
   "id": "2c15f30f",
   "metadata": {},
   "source": [
    "The Fraction class and integer type(int) are related to each other in the form of a container. It contains two ints, one numerator and a denominator."
   ]
  }
 ],
 "metadata": {
  "kernelspec": {
   "display_name": "Python 3 (ipykernel)",
   "language": "python",
   "name": "python3"
  },
  "language_info": {
   "codemirror_mode": {
    "name": "ipython",
    "version": 3
   },
   "file_extension": ".py",
   "mimetype": "text/x-python",
   "name": "python",
   "nbconvert_exporter": "python",
   "pygments_lexer": "ipython3",
   "version": "3.9.7"
  }
 },
 "nbformat": 4,
 "nbformat_minor": 5
}
