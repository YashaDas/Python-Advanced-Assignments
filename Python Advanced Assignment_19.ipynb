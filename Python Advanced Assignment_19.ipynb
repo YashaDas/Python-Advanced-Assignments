{
 "cells": [
  {
   "cell_type": "markdown",
   "id": "96f4439c",
   "metadata": {},
   "source": [
    "# Python Advanced Assignment_19"
   ]
  },
  {
   "cell_type": "markdown",
   "id": "bf3fbb46",
   "metadata": {},
   "source": [
    "### Q1. Define the relationship between a class and its instances. Is it a one-to-one or a one-to-many partnership, for example?"
   ]
  },
  {
   "cell_type": "markdown",
   "id": "e6817ea0",
   "metadata": {},
   "source": [
    "##### ANSWER:"
   ]
  },
  {
   "cell_type": "markdown",
   "id": "1d66a4a4",
   "metadata": {},
   "source": [
    " Relationship between a class and its instances is a one to many partnership."
   ]
  },
  {
   "cell_type": "markdown",
   "id": "7dcfdc5e",
   "metadata": {},
   "source": [
    "### Q2. What kind of data is held only in an instance?"
   ]
  },
  {
   "cell_type": "markdown",
   "id": "f70919ef",
   "metadata": {},
   "source": [
    "##### ANSWER:"
   ]
  },
  {
   "cell_type": "markdown",
   "id": "5c9a792c",
   "metadata": {},
   "source": [
    "Instance objects contains the Instance variables which are specific to that specific Instance object."
   ]
  },
  {
   "cell_type": "markdown",
   "id": "8feb4cb3",
   "metadata": {},
   "source": [
    "### Q3. What kind of knowledge is stored in a class?"
   ]
  },
  {
   "cell_type": "markdown",
   "id": "2570ed93",
   "metadata": {},
   "source": [
    "##### ANSWER:"
   ]
  },
  {
   "cell_type": "markdown",
   "id": "8c339036",
   "metadata": {},
   "source": [
    "Class creates a user-defined data structure, which holds its own data members and member functions, which can be accessed and used by creating an instance of that class. A class is like a blueprint for an object."
   ]
  },
  {
   "cell_type": "markdown",
   "id": "1c3e8519",
   "metadata": {},
   "source": [
    "### Q4. What exactly is a method, and how is it different from a regular function?"
   ]
  },
  {
   "cell_type": "markdown",
   "id": "eecd3a4c",
   "metadata": {},
   "source": [
    "##### ANSWER:"
   ]
  },
  {
   "cell_type": "markdown",
   "id": "ebe12026",
   "metadata": {},
   "source": [
    "The methods with a class can be used to access the insatnce variables of its instance. So, the object's state can be modified by its method. Function can't access the attributes of an instance of a class or can't modify the state of the object."
   ]
  },
  {
   "cell_type": "markdown",
   "id": "f8c57b6d",
   "metadata": {},
   "source": [
    "### Q5. Is inheritance supported in Python, and if so, what is the syntax?"
   ]
  },
  {
   "cell_type": "markdown",
   "id": "0c88767d",
   "metadata": {},
   "source": [
    "##### ANSWER:"
   ]
  },
  {
   "cell_type": "markdown",
   "id": "61cd5bec",
   "metadata": {},
   "source": [
    "Yes, Python supports inheritance. The Types of Inheritence Supported by Python are:\n",
    "    \n",
    "- Simple Inheritence\n",
    "\n",
    "\n",
    "- Multiple Inheritence\n",
    "\n",
    "\n",
    "- Multilevel lInheritence\n",
    "\n",
    "\n",
    "- Hybrid Inheritence\n",
    "\n",
    "\n",
    "- Hierracial Inheritence"
   ]
  },
  {
   "cell_type": "markdown",
   "id": "3528a908",
   "metadata": {},
   "source": [
    "__Syntax of Inheritance:__"
   ]
  },
  {
   "cell_type": "code",
   "execution_count": null,
   "id": "3c01ef14",
   "metadata": {},
   "outputs": [],
   "source": [
    "class Person:\n",
    "    def __init__(self, fname, lname):\n",
    "        self.first_name = fname\n",
    "        self.last_name = lname\n",
    "class Student(Person):\n",
    "    pass"
   ]
  },
  {
   "cell_type": "markdown",
   "id": "7a3c3e5c",
   "metadata": {},
   "source": [
    "### Q6. How much encapsulation (making instance or class variables private) does Python support?"
   ]
  },
  {
   "cell_type": "markdown",
   "id": "0de39708",
   "metadata": {},
   "source": [
    "##### ANSWER:"
   ]
  },
  {
   "cell_type": "markdown",
   "id": "870eddd2",
   "metadata": {},
   "source": [
    "Encapsulation describes the idea of wrapping data and the methods that work on data within one unit. This puts restrictions on accessing variables and methods directly and can prevent the accidental modification of data. To prevent accidental change, an objects variable can only be changed by an objects method."
   ]
  },
  {
   "cell_type": "markdown",
   "id": "7c77b385",
   "metadata": {},
   "source": [
    "### Q7. How do you distinguish between a class variable and an instance variable?"
   ]
  },
  {
   "cell_type": "markdown",
   "id": "d649c48f",
   "metadata": {},
   "source": [
    "##### ANSWER:"
   ]
  },
  {
   "cell_type": "markdown",
   "id": "699fa4dc",
   "metadata": {},
   "source": [
    "The Class Variable is available to all the instance objects of that class whereas Instance Variables are accessible only to the object or Instance of that class.\n",
    "\n",
    "A single copy of Class variable is maintained by pvm at the class level whereas different copies of instance variables are maintained by pvm at objects/instance level."
   ]
  },
  {
   "cell_type": "markdown",
   "id": "164056be",
   "metadata": {},
   "source": [
    "### Q8. When, if ever, can self be included in a class's method definitions?"
   ]
  },
  {
   "cell_type": "markdown",
   "id": "58e8ddb3",
   "metadata": {},
   "source": [
    "##### ANSWER:"
   ]
  },
  {
   "cell_type": "markdown",
   "id": "2752e18d",
   "metadata": {},
   "source": [
    "Self can included in class method definations to access the instance variables inside class methods."
   ]
  },
  {
   "cell_type": "markdown",
   "id": "8b9bc171",
   "metadata": {},
   "source": [
    "### Q9. What is the difference between the `` __add__`` and the `` __radd__`` methods?"
   ]
  },
  {
   "cell_type": "markdown",
   "id": "77129e6f",
   "metadata": {},
   "source": [
    "##### ANSWER:"
   ]
  },
  {
   "cell_type": "markdown",
   "id": "d5b9d005",
   "metadata": {},
   "source": [
    "Entering ``__radd__`` Python will first try ``__add__()``, and if that returns _Not Implemented_ Python will check if the right-hand operand implements ``__radd__``, and if it does, it will call ``__radd__()`` rather than raising a __TypeError__."
   ]
  },
  {
   "cell_type": "markdown",
   "id": "78f398bd",
   "metadata": {},
   "source": [
    "### Q10. When is it necessary to use a reflection method? When do you not need it, even though you support the operation in question?"
   ]
  },
  {
   "cell_type": "markdown",
   "id": "e875d7ff",
   "metadata": {},
   "source": [
    "##### ANSWER:"
   ]
  },
  {
   "cell_type": "markdown",
   "id": "b15c2c00",
   "metadata": {},
   "source": [
    "Reflection method we often encounter the requirement that a method in the executing object, or a variable in the calling object, or a field of the object should be assigned, while the method name or field name can not be determined when encoding the code, and need to be input in the form of passing strings through parameters."
   ]
  },
  {
   "cell_type": "markdown",
   "id": "d06036b4",
   "metadata": {},
   "source": [
    "### Q11. What is the`` __iadd__`` method called?"
   ]
  },
  {
   "cell_type": "markdown",
   "id": "30484936",
   "metadata": {},
   "source": [
    "##### ANSWER:"
   ]
  },
  {
   "cell_type": "markdown",
   "id": "0b2d80b2",
   "metadata": {},
   "source": [
    "``__iadd__`` method is called when we use implementation like __a+=b__ which is ``a.__iadd__(b)``"
   ]
  },
  {
   "cell_type": "markdown",
   "id": "61b15d81",
   "metadata": {},
   "source": [
    "### Q12. Is the ``__init__`` method inherited by subclasses? What do you do if you need to customize its behavior within a subclass?"
   ]
  },
  {
   "cell_type": "markdown",
   "id": "14d2415c",
   "metadata": {},
   "source": [
    "##### ANSWER:"
   ]
  },
  {
   "cell_type": "markdown",
   "id": "0f7009fb",
   "metadata": {},
   "source": [
    "Yes, ``__init__`` method will be inherited by subclasses. if we want to customize its behaviour within a subclass we can use __``super()``__ method."
   ]
  }
 ],
 "metadata": {
  "kernelspec": {
   "display_name": "Python 3 (ipykernel)",
   "language": "python",
   "name": "python3"
  },
  "language_info": {
   "codemirror_mode": {
    "name": "ipython",
    "version": 3
   },
   "file_extension": ".py",
   "mimetype": "text/x-python",
   "name": "python",
   "nbconvert_exporter": "python",
   "pygments_lexer": "ipython3",
   "version": "3.9.7"
  }
 },
 "nbformat": 4,
 "nbformat_minor": 5
}
