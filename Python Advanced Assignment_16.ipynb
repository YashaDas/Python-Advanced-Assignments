{
 "cells": [
  {
   "cell_type": "markdown",
   "id": "bf6f4f9d",
   "metadata": {},
   "source": [
    "# Python Advanced Assignment_16"
   ]
  },
  {
   "cell_type": "markdown",
   "id": "85cbc482",
   "metadata": {},
   "source": [
    "### Q1. What is the benefit of regular expressions?"
   ]
  },
  {
   "cell_type": "markdown",
   "id": "b7ac36ad",
   "metadata": {},
   "source": [
    "##### ANSWER:"
   ]
  },
  {
   "cell_type": "markdown",
   "id": "449af73b",
   "metadata": {},
   "source": [
    "The benefits of regular expressions(also known as __``regex``__ or __``regexp``__) are as follows __:__\n",
    "\n",
    "\n",
    "- Regular exprssions are used to match strings of text such as particular characters, words, or patterns of characters.\n",
    "\n",
    "\n",
    "- It let's us match any string pattern from the text.\n",
    "\n",
    "\n",
    "- It also let's us extract any string pattern from the text.\n",
    "\n",
    "\n",
    "- It helps the programmers to write lesser and cleaner code.\n",
    "\n",
    "\n",
    "- It also helps in avoidsing multiple use of __``if/else``__ statements."
   ]
  },
  {
   "cell_type": "markdown",
   "id": "b3dba671",
   "metadata": {},
   "source": [
    "### Q2. Describe the difference between the effects of \"(ab)c+\" and \"a(bc)+.\" Which of these, if any, is the unqualified pattern \"abc+\"?"
   ]
  },
  {
   "cell_type": "markdown",
   "id": "b093dcec",
   "metadata": {},
   "source": [
    "##### ANSWER:"
   ]
  },
  {
   "cell_type": "markdown",
   "id": "3f21863a",
   "metadata": {},
   "source": [
    "The difference between the effects of __``(ab)c+``__ and __``a(bc)+``__ is \n",
    "\n",
    "\n",
    "- In __``(ab)c+``, ``ab``__ is a group\n",
    "\n",
    "\n",
    "- In __``a(bc)+``, ``bc``__ is a group.\n",
    "\n",
    "\n",
    "Both __``(ab)c+``__ and __``a(bc)+``__ are valid patterns."
   ]
  },
  {
   "cell_type": "markdown",
   "id": "40621b7c",
   "metadata": {},
   "source": [
    "### Q3. How much do you need to use the following sentence while using regular expressions?\n",
    "\n",
    "\n",
    "\n",
    "__``import re``__"
   ]
  },
  {
   "cell_type": "markdown",
   "id": "d36d4b2f",
   "metadata": {},
   "source": [
    "##### ANSWER:"
   ]
  },
  {
   "cell_type": "markdown",
   "id": "a0594adb",
   "metadata": {},
   "source": [
    "The  __``import re``__ statement always has to be imported before using regular expressions."
   ]
  },
  {
   "cell_type": "markdown",
   "id": "1f9df4f2",
   "metadata": {},
   "source": [
    "### Q4. Which characters have special significance in square brackets when expressing a range, and under what circumstances?"
   ]
  },
  {
   "cell_type": "markdown",
   "id": "3904d20e",
   "metadata": {},
   "source": [
    "##### ANSWER:"
   ]
  },
  {
   "cell_type": "markdown",
   "id": "2b2ac85c",
   "metadata": {},
   "source": [
    "The Characters __``.``__, __``*``__, __``?``__, __``^``__, __``or``__, __``()``__, have a special signiface when used within square brackets. They need not be be explicitly escaped by __``\\``__ as in case of pattern texts in a raw string."
   ]
  },
  {
   "cell_type": "markdown",
   "id": "895ee464",
   "metadata": {},
   "source": [
    "### Q5. How does compiling a regular-expression object benefit you?"
   ]
  },
  {
   "cell_type": "markdown",
   "id": "36974105",
   "metadata": {},
   "source": [
    "##### ANSWER:"
   ]
  },
  {
   "cell_type": "markdown",
   "id": "a9c3c168",
   "metadata": {},
   "source": [
    "Compiling a regular-expression objects benefits us by:\n",
    "\n",
    "    \n",
    "- It let's us combine a regular expression pattern into pattern objects.\n",
    "\n",
    "\n",
    "- It can be used for pattern matching.\n",
    "\n",
    "\n",
    "- It also helps to search a pattern again without re-writing it,"
   ]
  },
  {
   "cell_type": "markdown",
   "id": "182e422f",
   "metadata": {},
   "source": [
    "### Q6. What are some examples of how to use the match object returned by re.match and re.search?"
   ]
  },
  {
   "cell_type": "markdown",
   "id": "e2cac47b",
   "metadata": {},
   "source": [
    "##### ANSWER:"
   ]
  },
  {
   "cell_type": "markdown",
   "id": "a5fe937a",
   "metadata": {},
   "source": [
    "The __``re.search()``__ and __``re.match()``__ both are functions of re module in python. These functions are very efficient and fast for searching in strings. The function searches for some substring in a string and returns a match object if found, else it returns none.\n",
    "\n",
    "\n",
    "There is a difference between the use of both functions. Both return the first match of a substring found in the string, but __``re.match()``__ searches only from the beginning of the string and return match object if found. But if a match of substring is found somewhere in the middle of the string, it returns none.\n",
    "\n",
    "\n",
    "While __``re.search()``__ searches for the whole string even if the string contains multi-lines and tries to find a match of the substring in all the lines of string"
   ]
  },
  {
   "cell_type": "markdown",
   "id": "5b34e120",
   "metadata": {},
   "source": [
    "__For Example:__"
   ]
  },
  {
   "cell_type": "code",
   "execution_count": 1,
   "id": "9eadf8a5",
   "metadata": {},
   "outputs": [
    {
     "name": "stdout",
     "output_type": "stream",
     "text": [
      "<re.Match object; span=(66, 72), match='string'>\n",
      "None\n",
      "<re.Match object; span=(0, 6), match='string'>\n",
      "<re.Match object; span=(0, 6), match='string'>\n"
     ]
    }
   ],
   "source": [
    "import re\n",
    "Substring ='string' \n",
    "String1 ='We are learning regex with geeksforgeeks regex is very useful for string matching. It is fast too.' \n",
    "String2 ='string We are learning regex with geeksforgeeks regex is very useful for string matching. It is fast too.'\n",
    "print(re.search(Substring, String1, re.IGNORECASE))\n",
    "print(re.match(Substring, String1, re.IGNORECASE))\n",
    "print(re.search(Substring, String2, re.IGNORECASE))\n",
    "print(re.match(Substring, String2, re.IGNORECASE))"
   ]
  },
  {
   "cell_type": "markdown",
   "id": "918cc249",
   "metadata": {},
   "source": [
    "### Q7. What is the difference between using a vertical bar (|) as an alteration and using square brackets as a character set?"
   ]
  },
  {
   "cell_type": "markdown",
   "id": "d51d5829",
   "metadata": {},
   "source": [
    "##### ANSWER:"
   ]
  },
  {
   "cell_type": "markdown",
   "id": "8eb21047",
   "metadata": {},
   "source": [
    "The difference between using a vertical bar (__``|``__) as an alteration and using square brackets as a character set is __:__\n",
    "  \n",
    "\n",
    "- When vertical bar (__``|``__) is used as an alteration then the patterns searches for __``or``__ option. Pattern for vertical bar (__``|``__) is __:__ __``<pattern_1>|<pattern_2>``__ meaning it performs the same searches as __``<pattern_1>or<<pattern_2>``__ in the searched string. The first occurance of matched string will be returned as the Match Object.\n",
    "\n",
    "\n",
    "\n",
    "- Whereas using square brackets as a character set searches for all the character set in the square bracket and if match is found, it returns it."
   ]
  },
  {
   "cell_type": "markdown",
   "id": "daf8bb1f",
   "metadata": {},
   "source": [
    "### Q8. In regular-expression search patterns, why is it necessary to use the raw-string indicator (r)? In   replacement strings?"
   ]
  },
  {
   "cell_type": "markdown",
   "id": "aa84b6f7",
   "metadata": {},
   "source": [
    "##### ANSWER:"
   ]
  },
  {
   "cell_type": "markdown",
   "id": "e8b74f31",
   "metadata": {},
   "source": [
    "In regular-expression search patterns, it is necessary to us the raw-string indicator __``(r)``__, so that blackslashes are not escaped."
   ]
  }
 ],
 "metadata": {
  "kernelspec": {
   "display_name": "Python 3 (ipykernel)",
   "language": "python",
   "name": "python3"
  },
  "language_info": {
   "codemirror_mode": {
    "name": "ipython",
    "version": 3
   },
   "file_extension": ".py",
   "mimetype": "text/x-python",
   "name": "python",
   "nbconvert_exporter": "python",
   "pygments_lexer": "ipython3",
   "version": "3.9.7"
  }
 },
 "nbformat": 4,
 "nbformat_minor": 5
}
