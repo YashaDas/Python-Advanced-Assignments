{
 "cells": [
  {
   "cell_type": "markdown",
   "id": "646632ef",
   "metadata": {},
   "source": [
    "# Python Advanced Assignment_1"
   ]
  },
  {
   "cell_type": "markdown",
   "id": "17b13b21",
   "metadata": {},
   "source": [
    "### Q1. What is the purpose of Python's OOP?"
   ]
  },
  {
   "cell_type": "markdown",
   "id": "820ef7d5",
   "metadata": {},
   "source": [
    "##### ANSWER:"
   ]
  },
  {
   "cell_type": "markdown",
   "id": "1c137ebd",
   "metadata": {},
   "source": [
    "The following are some of the purposes of Python's OOPs:-\n",
    "\n",
    "\n",
    "\n",
    "- In Python, object-oriented Programming (OOPs) uses objects and classes in programming.\n",
    "\n",
    "\n",
    "- It aims to implement real-world entities like inheritance, polymorphisms, encapsulation, etc. in the programming.\n",
    "\n",
    "\n",
    "- The main concept of OOPs is to bind the data and the functions that work on that together as a single unit so that no other part of the code can access this data.\n",
    "\n",
    "\n",
    "- It makes the development and maintenance easier.\n",
    "\n",
    "\n",
    "- It provides data hiding through encapsulation.You cannot access private data from anywhere.\n",
    "\n",
    "\n",
    "- Object-oriented programming is the problem-solving approach and used where computation is done by using objects.\n",
    "\n",
    "\n",
    "- Using OOPs multiple instances of an object can be made through polymorphism.\n",
    "\n",
    "\n",
    "- Reduced high complexity of code, though abstraction.\n",
    "\n",
    "\n",
    "- Reuse of code, by the child class inheriting properties of parent class through inheritance.\n",
    "\n",
    "\n",
    "- Modularity of code allows us to do easy debugging, instead of looking into hundreds lines of codes to find a single issue."
   ]
  },
  {
   "cell_type": "markdown",
   "id": "057e1650",
   "metadata": {},
   "source": [
    "### Q2. Where does an inheritance search look for an attribute?"
   ]
  },
  {
   "cell_type": "markdown",
   "id": "b2caef48",
   "metadata": {},
   "source": [
    "##### ANSWER:"
   ]
  },
  {
   "cell_type": "markdown",
   "id": "2fb9ee22",
   "metadata": {},
   "source": [
    "An inheritance search looks for an attribute first in the instance object, then in the class the instance was created from, then in all higher superclasses, progressing from left to right (by default). The search stops at the first place the attribute is found."
   ]
  },
  {
   "cell_type": "markdown",
   "id": "3c18f0b4",
   "metadata": {},
   "source": [
    "### Q3. How do you distinguish between a class object and an instance object?"
   ]
  },
  {
   "cell_type": "markdown",
   "id": "870d65e9",
   "metadata": {},
   "source": [
    "##### ANSWER:"
   ]
  },
  {
   "cell_type": "markdown",
   "id": "e0de91d5",
   "metadata": {},
   "source": [
    "The following are some of the differences between a class object and an instance object:-\n",
    "    \n",
    "    \n",
    "\n",
    "- Class is a template for creating objects whereas object is an instance of class.\n",
    "\n",
    "\n",
    "- Seperate memory is allocated for each object whenever an object is created whereas for a class this does't happens.\n",
    "\n",
    "\n",
    "- A Class is created once whereas many objects can be created using a class.\n",
    "\n",
    "\n",
    "- As Classes have no allocated memory they can't be manipulated whereas objects can be manipulated."
   ]
  },
  {
   "cell_type": "markdown",
   "id": "6021737a",
   "metadata": {},
   "source": [
    "### Q4. What makes the first argument in a class’s method function special?"
   ]
  },
  {
   "cell_type": "markdown",
   "id": "c6165ad6",
   "metadata": {},
   "source": [
    "##### ANSWER:"
   ]
  },
  {
   "cell_type": "markdown",
   "id": "2876c38f",
   "metadata": {},
   "source": [
    "The first argument in a class's method function is special because it always receives the instance object that is the implied subject of the method call. It’s usually called 'self' by convention."
   ]
  },
  {
   "cell_type": "markdown",
   "id": "c46fd0fd",
   "metadata": {},
   "source": [
    "### Q5. What is the purpose of the \\__ init \\__ method?"
   ]
  },
  {
   "cell_type": "markdown",
   "id": "746fabd8",
   "metadata": {},
   "source": [
    "##### ANSWER:"
   ]
  },
  {
   "cell_type": "markdown",
   "id": "a69b4271",
   "metadata": {},
   "source": [
    "The \\__ init \\__  function is called every time an object is created from a class. The \\__ init \\__ method lets the class initialize the object’s attributes and serves no other purpose. It is only used within classes. "
   ]
  },
  {
   "cell_type": "markdown",
   "id": "ccd7bd8e",
   "metadata": {},
   "source": [
    "### Q6. What is the process for creating a class instance?"
   ]
  },
  {
   "cell_type": "markdown",
   "id": "0d8e4e58",
   "metadata": {},
   "source": [
    "##### ANSWER:"
   ]
  },
  {
   "cell_type": "markdown",
   "id": "b1235f58",
   "metadata": {},
   "source": [
    "To create a class instance, we need to call the class by its name and pass the arguments to the class, which its \\__ init \\__ method accepts.\n",
    "\n",
    "Example: fav_colours = my_colourbox(\"Blue\",\"Red\")\n",
    "\n",
    "Here, fav_colours is an instance of class my_colourbox with attributes  and \"Blue\" and \"Red\"."
   ]
  },
  {
   "cell_type": "markdown",
   "id": "a26959e5",
   "metadata": {},
   "source": [
    "### Q7. What is the process for creating a class?"
   ]
  },
  {
   "cell_type": "markdown",
   "id": "fb209632",
   "metadata": {},
   "source": [
    "##### ANSWER:"
   ]
  },
  {
   "cell_type": "markdown",
   "id": "9d8c5bc7",
   "metadata": {},
   "source": [
    "To create a class, use the keyword 'class'.\n",
    "    \n",
    "\n",
    "Syntax:\n",
    "\n",
    "For creating a class named MyClass    \n",
    "\n",
    "\n",
    "class MyClass:"
   ]
  },
  {
   "cell_type": "markdown",
   "id": "16022f39",
   "metadata": {},
   "source": [
    "### Q8. How would you define the superclasses of a class?"
   ]
  },
  {
   "cell_type": "markdown",
   "id": "652d8ceb",
   "metadata": {},
   "source": [
    "##### ANSWER:"
   ]
  },
  {
   "cell_type": "markdown",
   "id": "aa2caa18",
   "metadata": {},
   "source": [
    "The class from which a class inherits is called the parent or superclass. A class which inherits from a superclass is called a subclass, also called child class.\n",
    "\n",
    "Example:\n",
    "\n",
    "class University(Student): \n",
    "\n",
    "Here, child class \"University\" inherits attributes and methofs from Superclass/Parent \"Student\"."
   ]
  }
 ],
 "metadata": {
  "kernelspec": {
   "display_name": "Python 3 (ipykernel)",
   "language": "python",
   "name": "python3"
  },
  "language_info": {
   "codemirror_mode": {
    "name": "ipython",
    "version": 3
   },
   "file_extension": ".py",
   "mimetype": "text/x-python",
   "name": "python",
   "nbconvert_exporter": "python",
   "pygments_lexer": "ipython3",
   "version": "3.9.7"
  }
 },
 "nbformat": 4,
 "nbformat_minor": 5
}
