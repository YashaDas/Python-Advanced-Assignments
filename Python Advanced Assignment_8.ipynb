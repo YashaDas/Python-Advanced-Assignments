{
 "cells": [
  {
   "cell_type": "markdown",
   "id": "a43ef5d7",
   "metadata": {},
   "source": [
    "# Python Advanced Assignment_8"
   ]
  },
  {
   "cell_type": "markdown",
   "id": "335ae038",
   "metadata": {},
   "source": [
    "### Q1. What are the two latest user-defined exception constraints in Python 3.X?"
   ]
  },
  {
   "cell_type": "markdown",
   "id": "4a884644",
   "metadata": {},
   "source": [
    "##### ANSWER:"
   ]
  },
  {
   "cell_type": "markdown",
   "id": "1b97455b",
   "metadata": {},
   "source": [
    "The following are the two latest user-defined exception constraints in Python 3.X:\n",
    "\n",
    "- __``raise``__\n",
    "\n",
    "\n",
    "- __``assert``__"
   ]
  },
  {
   "cell_type": "markdown",
   "id": "d0cc3bd7",
   "metadata": {},
   "source": [
    "### Q2. How are class-based exceptions that have been raised matched to handlers?"
   ]
  },
  {
   "cell_type": "markdown",
   "id": "b722fbef",
   "metadata": {},
   "source": [
    "##### ANSWER:"
   ]
  },
  {
   "cell_type": "markdown",
   "id": "b373516a",
   "metadata": {},
   "source": [
    "In python, users can define custom exceptions by creating a new class. This exception class has to be derived, either directly or indirectly from built-in Exception class. This new exception class like other exceptions can be raised using the raise statement with an optional error message."
   ]
  },
  {
   "cell_type": "markdown",
   "id": "1544d8f2",
   "metadata": {},
   "source": [
    "__For Example:__"
   ]
  },
  {
   "cell_type": "code",
   "execution_count": 2,
   "id": "4b3dc15b",
   "metadata": {},
   "outputs": [
    {
     "ename": "TooYoungException",
     "evalue": "To Young For Voting",
     "output_type": "error",
     "traceback": [
      "\u001b[1;31m---------------------------------------------------------------------------\u001b[0m",
      "\u001b[1;31mTooYoungException\u001b[0m                         Traceback (most recent call last)",
      "\u001b[1;32mC:\\Users\\COMPUT~1\\AppData\\Local\\Temp/ipykernel_10764/111208612.py\u001b[0m in \u001b[0;36m<module>\u001b[1;34m\u001b[0m\n\u001b[0;32m      3\u001b[0m         \u001b[0mself\u001b[0m\u001b[1;33m.\u001b[0m\u001b[0mmsg\u001b[0m \u001b[1;33m=\u001b[0m \u001b[0mmsg\u001b[0m\u001b[1;33m\u001b[0m\u001b[1;33m\u001b[0m\u001b[0m\n\u001b[0;32m      4\u001b[0m \u001b[0mage\u001b[0m \u001b[1;33m=\u001b[0m \u001b[1;36m12\u001b[0m\u001b[1;33m\u001b[0m\u001b[1;33m\u001b[0m\u001b[0m\n\u001b[1;32m----> 5\u001b[1;33m \u001b[1;32mif\u001b[0m \u001b[0mage\u001b[0m \u001b[1;33m<=\u001b[0m \u001b[1;36m18\u001b[0m\u001b[1;33m:\u001b[0m \u001b[1;32mraise\u001b[0m \u001b[0mTooYoungException\u001b[0m\u001b[1;33m(\u001b[0m\u001b[1;34m'To Young For Voting'\u001b[0m\u001b[1;33m)\u001b[0m\u001b[1;33m\u001b[0m\u001b[1;33m\u001b[0m\u001b[0m\n\u001b[0m",
      "\u001b[1;31mTooYoungException\u001b[0m: To Young For Voting"
     ]
    }
   ],
   "source": [
    "class TooYoungException(Exception):\n",
    "    def __init__(self,msg):\n",
    "        self.msg = msg\n",
    "age = 12\n",
    "if age <= 18: raise TooYoungException('To Young For Voting')"
   ]
  },
  {
   "cell_type": "markdown",
   "id": "fb7e774e",
   "metadata": {},
   "source": [
    "### Q3. Describe two methods for attaching context information to exception artefacts."
   ]
  },
  {
   "cell_type": "markdown",
   "id": "604ac6e4",
   "metadata": {},
   "source": [
    "##### ANSWER:"
   ]
  },
  {
   "cell_type": "markdown",
   "id": "00f46b6b",
   "metadata": {},
   "source": [
    "The following are the two methods for attaching context information to exception artefacts:\n",
    "\n",
    "\n",
    "- The __``process()``__ method of LoggerAdapter is where the contextual information is added to the logging output. its passes the message and keyword arguments of the logging call, and it passes back modified versions of these to use in the call to the underlying logger.\n",
    "\n",
    "\n",
    "- Other method that can be used is __``exception()``__, Logs a messgae with level ERROR on this logger. The arguments are interpreted as for __``debug()``__. Exception info is added to the logging message."
   ]
  },
  {
   "cell_type": "markdown",
   "id": "66de246e",
   "metadata": {},
   "source": [
    "### Q4. Describe two methods for specifying the text of an exception object's error message."
   ]
  },
  {
   "cell_type": "markdown",
   "id": "608aa719",
   "metadata": {},
   "source": [
    "##### ANSWER:"
   ]
  },
  {
   "cell_type": "markdown",
   "id": "844e671f",
   "metadata": {},
   "source": [
    "The two methods for specifying the text of an exception object's error message are as follows:\n",
    "\n",
    "- __``raise``__ __:__ The __``raise``__ statement is used to trigger exception excplicitlly, if a condition is not met as required by the programmer then the following statement triggers an exception as stated by the programmer.\n",
    "\n",
    "\n",
    "- __``assert``__ __:__ The __``assert``__ statement gives Boolean as an output, which in case of True, the program continues to execute further. But, in case the output is False it raises an Assertion Error. This statement is used in case where the programmer wants the output to be True to avoid failure of code."
   ]
  },
  {
   "cell_type": "markdown",
   "id": "3bb1f684",
   "metadata": {},
   "source": [
    "### Q5. Why do you no longer use string-based exceptions?"
   ]
  },
  {
   "cell_type": "markdown",
   "id": "9c8da0d6",
   "metadata": {},
   "source": [
    "##### ANSWER:"
   ]
  },
  {
   "cell_type": "markdown",
   "id": "809b8f5b",
   "metadata": {},
   "source": [
    "String-based Exceptions does not inherit from Exceptions. So, plain exceptions catches all exceptions not only system's."
   ]
  }
 ],
 "metadata": {
  "kernelspec": {
   "display_name": "Python 3 (ipykernel)",
   "language": "python",
   "name": "python3"
  },
  "language_info": {
   "codemirror_mode": {
    "name": "ipython",
    "version": 3
   },
   "file_extension": ".py",
   "mimetype": "text/x-python",
   "name": "python",
   "nbconvert_exporter": "python",
   "pygments_lexer": "ipython3",
   "version": "3.9.7"
  }
 },
 "nbformat": 4,
 "nbformat_minor": 5
}
