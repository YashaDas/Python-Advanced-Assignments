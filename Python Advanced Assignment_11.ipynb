{
 "cells": [
  {
   "cell_type": "markdown",
   "id": "bb988ec8",
   "metadata": {},
   "source": [
    "# Python Advanced Assignment_11"
   ]
  },
  {
   "cell_type": "markdown",
   "id": "f47d8022",
   "metadata": {},
   "source": [
    "### Q1. What is the concept of a metaclass?"
   ]
  },
  {
   "cell_type": "markdown",
   "id": "2576f8fe",
   "metadata": {},
   "source": [
    "##### ANSWER:"
   ]
  },
  {
   "cell_type": "markdown",
   "id": "94ee2b76",
   "metadata": {},
   "source": [
    "___Metaclass___ in Python is a class of a class that defines how a class behaves. A class is itself a instance of Metaclass, and any Instance of Class in Python is an Instance of type metaclass. \n",
    "\n",
    "___E.g.:___ _Type_ of of ``int``, ``str``, ``float``, ``list``, ``tuple`` and more is of the metaclass type."
   ]
  },
  {
   "cell_type": "markdown",
   "id": "cd3d19b3",
   "metadata": {},
   "source": [
    "### Q2. What is the best way to declare a class's metaclass?"
   ]
  },
  {
   "cell_type": "markdown",
   "id": "bf1bb12b",
   "metadata": {},
   "source": [
    "##### ANSWER:"
   ]
  },
  {
   "cell_type": "markdown",
   "id": "bebef8b4",
   "metadata": {},
   "source": [
    "The best way to declare a class's metaclass is by using the keyword ``metaclass`` in class definition __:__"
   ]
  },
  {
   "cell_type": "markdown",
   "id": "c35a79b0",
   "metadata": {},
   "source": [
    "___Declaring a class's metaclass:___"
   ]
  },
  {
   "cell_type": "code",
   "execution_count": 1,
   "id": "1fa9aeff",
   "metadata": {},
   "outputs": [
    {
     "name": "stdout",
     "output_type": "stream",
     "text": [
      "<class 'type'>\n",
      "<class '__main__.meta'>\n"
     ]
    }
   ],
   "source": [
    "class meta(type):\n",
    "    pass\n",
    "class class_meta(metaclass=meta):\n",
    "    pass\n",
    "print(type(meta))\n",
    "print(type(class_meta))"
   ]
  },
  {
   "cell_type": "markdown",
   "id": "a729fdc8",
   "metadata": {},
   "source": [
    "### Q3. How do class decorators overlap with metaclasses for handling classes?"
   ]
  },
  {
   "cell_type": "markdown",
   "id": "a544edfe",
   "metadata": {},
   "source": [
    "##### ANSWER:"
   ]
  },
  {
   "cell_type": "markdown",
   "id": "04fb6914",
   "metadata": {},
   "source": [
    "Anything that one can do with a class decorator, that can also be done with a custom metaclasses \n",
    "\n",
    "We just have to apply the functionality of the \"decorator function\", i.e., the one that takes a class object and modifies it, in the course of the metaclass's ``__new__`` or ``__init__`` that make the class object."
   ]
  },
  {
   "cell_type": "markdown",
   "id": "db883b90",
   "metadata": {},
   "source": [
    "### Q4. How do class decorators overlap with metaclasses for handling instances?"
   ]
  },
  {
   "cell_type": "markdown",
   "id": "a033ebe6",
   "metadata": {},
   "source": [
    "##### ANSWER:"
   ]
  },
  {
   "cell_type": "markdown",
   "id": "1edbaa6d",
   "metadata": {},
   "source": [
    "Anything that one can do with a class decorator, that can also be done with a custom metaclasses \n",
    "\n",
    "We just have to apply the functionality of the \"decorator function\", i.e., the one that takes a class object and modifies it, in the course of the metaclass's ``__new__`` or ``__init__`` that make the class object."
   ]
  }
 ],
 "metadata": {
  "kernelspec": {
   "display_name": "Python 3 (ipykernel)",
   "language": "python",
   "name": "python3"
  },
  "language_info": {
   "codemirror_mode": {
    "name": "ipython",
    "version": 3
   },
   "file_extension": ".py",
   "mimetype": "text/x-python",
   "name": "python",
   "nbconvert_exporter": "python",
   "pygments_lexer": "ipython3",
   "version": "3.9.7"
  }
 },
 "nbformat": 4,
 "nbformat_minor": 5
}
