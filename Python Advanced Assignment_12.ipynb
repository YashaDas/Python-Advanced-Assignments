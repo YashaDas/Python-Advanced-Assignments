{
 "cells": [
  {
   "cell_type": "markdown",
   "id": "02343468",
   "metadata": {},
   "source": [
    "# Python Advanced Assignment_12"
   ]
  },
  {
   "cell_type": "markdown",
   "id": "7d5cfb40",
   "metadata": {},
   "source": [
    "### Q1. Does assigning a value to a string's indexed character violate Python's string immutability?"
   ]
  },
  {
   "cell_type": "markdown",
   "id": "16aba6eb",
   "metadata": {},
   "source": [
    "##### ANSWER:"
   ]
  },
  {
   "cell_type": "markdown",
   "id": "3bf6bae2",
   "metadata": {},
   "source": [
    "Assigning a new value to a string's indexed character violate's Python's string immutability, since strings are __immutable__ in nature."
   ]
  },
  {
   "cell_type": "markdown",
   "id": "cb1f68c9",
   "metadata": {},
   "source": [
    "___For Example:___"
   ]
  },
  {
   "cell_type": "code",
   "execution_count": 1,
   "id": "47de05dd",
   "metadata": {},
   "outputs": [
    {
     "name": "stdout",
     "output_type": "stream",
     "text": [
      "2845843529008\n"
     ]
    },
    {
     "ename": "TypeError",
     "evalue": "'str' object does not support item assignment",
     "output_type": "error",
     "traceback": [
      "\u001b[1;31m---------------------------------------------------------------------------\u001b[0m",
      "\u001b[1;31mTypeError\u001b[0m                                 Traceback (most recent call last)",
      "\u001b[1;32mC:\\Users\\COMPUT~1\\AppData\\Local\\Temp/ipykernel_11184/1101154320.py\u001b[0m in \u001b[0;36m<module>\u001b[1;34m\u001b[0m\n\u001b[0;32m      1\u001b[0m \u001b[0mname\u001b[0m \u001b[1;33m=\u001b[0m \u001b[1;34m\"Reinforcement\"\u001b[0m\u001b[1;33m\u001b[0m\u001b[1;33m\u001b[0m\u001b[0m\n\u001b[0;32m      2\u001b[0m \u001b[0mprint\u001b[0m\u001b[1;33m(\u001b[0m\u001b[0mid\u001b[0m\u001b[1;33m(\u001b[0m\u001b[0mname\u001b[0m\u001b[1;33m)\u001b[0m\u001b[1;33m)\u001b[0m \u001b[1;31m#73472\u001b[0m\u001b[1;33m\u001b[0m\u001b[1;33m\u001b[0m\u001b[0m\n\u001b[1;32m----> 3\u001b[1;33m \u001b[0mname\u001b[0m\u001b[1;33m[\u001b[0m\u001b[1;36m0\u001b[0m\u001b[1;33m]\u001b[0m \u001b[1;33m=\u001b[0m \u001b[1;34m\"V\"\u001b[0m \u001b[1;31m# Raises TypeError\u001b[0m\u001b[1;33m\u001b[0m\u001b[1;33m\u001b[0m\u001b[0m\n\u001b[0m",
      "\u001b[1;31mTypeError\u001b[0m: 'str' object does not support item assignment"
     ]
    }
   ],
   "source": [
    "name = \"Reinforcement\"\n",
    "print(id(name)) \n",
    "name[0] = \"V\" # Raises TypeError"
   ]
  },
  {
   "cell_type": "markdown",
   "id": "347e0464",
   "metadata": {},
   "source": [
    "### Q2. Does using the += operator to concatenate strings violate Python's string immutability? Why or why not?"
   ]
  },
  {
   "cell_type": "markdown",
   "id": "9e2d9911",
   "metadata": {},
   "source": [
    "##### ANSWER:"
   ]
  },
  {
   "cell_type": "markdown",
   "id": "11400e91",
   "metadata": {},
   "source": [
    "__``+=``__ operator is used to concatenate strings, it does not violate Python;s string immutability property because doing so creates a new association with data and variables. \n",
    "\n",
    "___E.g. :___ __``str_1 = 'a'``__ and __``str_1 += 'b'``__ . The following expressions create a string __``'ab'``__ and re-assigns it to the variable __``str_1``__, without modifying any string data."
   ]
  },
  {
   "cell_type": "markdown",
   "id": "d1e4850d",
   "metadata": {},
   "source": [
    "___For Example:___"
   ]
  },
  {
   "cell_type": "code",
   "execution_count": 2,
   "id": "ab403a47",
   "metadata": {},
   "outputs": [
    {
     "name": "stdout",
     "output_type": "stream",
     "text": [
      "2845768996336\n",
      "2845843767536\n"
     ]
    }
   ],
   "source": [
    "str_1 = 'a'\n",
    "print(id(str_1))\n",
    "str_1 += 'b'\n",
    "print(id(str_1)) # Does not modify existing string instead creates a new string object"
   ]
  },
  {
   "cell_type": "markdown",
   "id": "f891861b",
   "metadata": {},
   "source": [
    "### Q3. In Python, how many different ways are there to index a character?"
   ]
  },
  {
   "cell_type": "markdown",
   "id": "95312c5b",
   "metadata": {},
   "source": [
    "##### ANSWER:"
   ]
  },
  {
   "cell_type": "markdown",
   "id": "f45843fe",
   "metadata": {},
   "source": [
    "A character in a string can be indexed using the string name followed by index number of the character enclosed in square brackets.\n",
    "\n",
    "The following are the different ways to index a character __:__\n",
    "\n",
    "- __Positive Indexing__ __:__ The first index starts from 0 and moves forward in the positive direction i.e., 1,2,3,4,5.....so on.\n",
    "\n",
    "\n",
    "- __Negative Indexing__ __:__ This form of indexing moves from last to first i.e., backwards in the negative direction, such as -1, -2, -3, -4, -5,......so on."
   ]
  },
  {
   "cell_type": "markdown",
   "id": "b0558e0e",
   "metadata": {},
   "source": [
    "___For Example:___"
   ]
  },
  {
   "cell_type": "code",
   "execution_count": 8,
   "id": "9660a1ba",
   "metadata": {},
   "outputs": [
    {
     "name": "stdout",
     "output_type": "stream",
     "text": [
      "u l e\n",
      "e i c\n"
     ]
    }
   ],
   "source": [
    "indexing_string = \"iNeuron Full Stack Data Science\"\n",
    "print(indexing_string[9], indexing_string[10], indexing_string[2]) # Positive Indexing\n",
    "print(indexing_string[-1], indexing_string[-5], indexing_string[-2]) # Negative Indexing"
   ]
  },
  {
   "cell_type": "markdown",
   "id": "4aee0432",
   "metadata": {},
   "source": [
    "### Q4. What is the relationship between indexing and slicing?"
   ]
  },
  {
   "cell_type": "markdown",
   "id": "525113c0",
   "metadata": {},
   "source": [
    "##### ANSWER:"
   ]
  },
  {
   "cell_type": "markdown",
   "id": "37873779",
   "metadata": {},
   "source": [
    "The relationship between ___indexing___ and ___slicing___ is that using both one can access elements of sequence datatypes. To be precise, ___indexing___ is used for obtaining individual element whereas ___slicing___ is used to obtain sequence of elements."
   ]
  },
  {
   "cell_type": "markdown",
   "id": "841c4deb",
   "metadata": {},
   "source": [
    "___For Example:___"
   ]
  },
  {
   "cell_type": "code",
   "execution_count": 10,
   "id": "39a1f603",
   "metadata": {},
   "outputs": [
    {
     "name": "stdout",
     "output_type": "stream",
     "text": [
      "N u o\n",
      "Neuron Full St\n"
     ]
    }
   ],
   "source": [
    "string = \"iNeuron Full Stack Data Science\"\n",
    "print(string[1], string[3], string[5]) # Indexing\n",
    "print(string[1:15]) # Slicing"
   ]
  },
  {
   "cell_type": "markdown",
   "id": "6a48b9a8",
   "metadata": {},
   "source": [
    "### Q5. What is an indexed character's exact data type? What is the data form of a slicing-generated substring?"
   ]
  },
  {
   "cell_type": "markdown",
   "id": "ee719305",
   "metadata": {},
   "source": [
    "##### ANSWER:"
   ]
  },
  {
   "cell_type": "markdown",
   "id": "cdba0496",
   "metadata": {},
   "source": [
    "An indexed character's exact data type is __``str``__ (String).\n",
    "\n",
    "The data form of a slicing-generated substring is __``str``__ (String)."
   ]
  },
  {
   "cell_type": "markdown",
   "id": "504ff7e7",
   "metadata": {},
   "source": [
    "___For Example:___"
   ]
  },
  {
   "cell_type": "code",
   "execution_count": 12,
   "id": "edf34d94",
   "metadata": {},
   "outputs": [
    {
     "name": "stdout",
     "output_type": "stream",
     "text": [
      "<class 'str'>\n",
      "<class 'str'>\n"
     ]
    }
   ],
   "source": [
    "string2 = \"iNeuron Full Stack Data Science\"\n",
    "print(type(string2[3])) \n",
    "print(type(string2[1:10])) "
   ]
  },
  {
   "cell_type": "markdown",
   "id": "cd32ed10",
   "metadata": {},
   "source": [
    "### Q6. What is the relationship between string and character \"types\" in Python?"
   ]
  },
  {
   "cell_type": "markdown",
   "id": "13bccdf3",
   "metadata": {},
   "source": [
    "##### ANSWER:"
   ]
  },
  {
   "cell_type": "markdown",
   "id": "5cf632c7",
   "metadata": {},
   "source": [
    "Object that contains sequence of ___character___ data types are called ___String___."
   ]
  },
  {
   "cell_type": "markdown",
   "id": "10aee8ec",
   "metadata": {},
   "source": [
    "### Q7. Identify at least two operators and one method that allow you to combine one or more smaller strings to create a larger string."
   ]
  },
  {
   "cell_type": "markdown",
   "id": "431a2e25",
   "metadata": {},
   "source": [
    "##### ANSWER:"
   ]
  },
  {
   "cell_type": "markdown",
   "id": "a29afcaa",
   "metadata": {},
   "source": [
    "The following are the operators that allow you to combine one or more smaller strings to create a larger string __:__\n",
    "\n",
    "- __``+``__\n",
    "\n",
    "\n",
    "- __``+=``__\n",
    "\n",
    "\n",
    "- __``*``__\n",
    "\n",
    "\n",
    "The following is the method that allows you to combine one or more smaller strings to create a larger string __:__\n",
    "    \n",
    " __``<string>.join(<sep>)``__ \n",
    "\n",
    "_The above method joins elements of iterable type, such as, __list__ and __tuple__ to get a combined string._"
   ]
  },
  {
   "cell_type": "markdown",
   "id": "0d52fc28",
   "metadata": {},
   "source": [
    "___For Example:___"
   ]
  },
  {
   "cell_type": "code",
   "execution_count": 14,
   "id": "25738740",
   "metadata": {},
   "outputs": [
    {
     "name": "stdout",
     "output_type": "stream",
     "text": [
      "iNeuron Full Stack Data Science FSDS\n",
      "FSDS FSDS FSDS \n",
      "I N E U R O N\n",
      "i n e u r o n\n"
     ]
    }
   ],
   "source": [
    "# example of operators that allow you to combine one or more smaller strings to create a larger string\n",
    "\n",
    "string3 = 'iNeuron '\n",
    "string3 += 'Full Stack Data Science'\n",
    "print(string3 + ' FSDS')\n",
    "print('FSDS '*3)\n",
    "\n",
    "# example ofthe method that allows you to combine one or more smaller strings to create a larger string\n",
    "\n",
    "print(\" \".join(['I','N','E','U','R','O','N'])) # List Iterable\n",
    "print(\" \".join(('I','N','E','U','R','O','N')).lower()) # Tuple Iterable"
   ]
  },
  {
   "cell_type": "markdown",
   "id": "9fbe4424",
   "metadata": {},
   "source": [
    "### Q8. What is the benefit of first checking the target string with in or not in before using the index method to find a substring?"
   ]
  },
  {
   "cell_type": "markdown",
   "id": "132ac26e",
   "metadata": {},
   "source": [
    "##### ANSWER:"
   ]
  },
  {
   "cell_type": "markdown",
   "id": "12e5bcc2",
   "metadata": {},
   "source": [
    "The benefit of checking the target string with __``in``__ or __``not in``__ operators before using the index method to find a substring  helps in confirming the availability of a substring and thus avoids raising of __``ValueError``__."
   ]
  },
  {
   "cell_type": "markdown",
   "id": "1328c8d2",
   "metadata": {},
   "source": [
    "___For Example:___"
   ]
  },
  {
   "cell_type": "code",
   "execution_count": 25,
   "id": "4f92ce54",
   "metadata": {},
   "outputs": [
    {
     "name": "stdout",
     "output_type": "stream",
     "text": [
      "Index of the particular element in the given string is:  3\n"
     ]
    },
    {
     "ename": "ValueError",
     "evalue": "substring not found",
     "output_type": "error",
     "traceback": [
      "\u001b[1;31m---------------------------------------------------------------------------\u001b[0m",
      "\u001b[1;31mValueError\u001b[0m                                Traceback (most recent call last)",
      "\u001b[1;32mC:\\Users\\COMPUT~1\\AppData\\Local\\Temp/ipykernel_11184/332091654.py\u001b[0m in \u001b[0;36m<module>\u001b[1;34m\u001b[0m\n\u001b[0;32m      1\u001b[0m \u001b[0mstring4\u001b[0m \u001b[1;33m=\u001b[0m \u001b[1;34m\"ineuron\"\u001b[0m\u001b[1;33m\u001b[0m\u001b[1;33m\u001b[0m\u001b[0m\n\u001b[0;32m      2\u001b[0m \u001b[0mprint\u001b[0m\u001b[1;33m(\u001b[0m\u001b[1;34m\"Index of the particular element in the given string is: \"\u001b[0m\u001b[1;33m,\u001b[0m\u001b[0mstring4\u001b[0m\u001b[1;33m.\u001b[0m\u001b[0mindex\u001b[0m\u001b[1;33m(\u001b[0m\u001b[1;34m'u'\u001b[0m\u001b[1;33m)\u001b[0m\u001b[1;33m)\u001b[0m\u001b[1;33m\u001b[0m\u001b[1;33m\u001b[0m\u001b[0m\n\u001b[1;32m----> 3\u001b[1;33m \u001b[0mprint\u001b[0m\u001b[1;33m(\u001b[0m\u001b[0mstring4\u001b[0m\u001b[1;33m.\u001b[0m\u001b[0mindex\u001b[0m\u001b[1;33m(\u001b[0m\u001b[1;34m'x'\u001b[0m\u001b[1;33m)\u001b[0m\u001b[1;33m)\u001b[0m \u001b[1;31m# Raises ValueError\u001b[0m\u001b[1;33m\u001b[0m\u001b[1;33m\u001b[0m\u001b[0m\n\u001b[0m",
      "\u001b[1;31mValueError\u001b[0m: substring not found"
     ]
    }
   ],
   "source": [
    "string4 = \"ineuron\"\n",
    "print(\"Index of the particular element in the given string is: \",string4.index('u'))\n",
    "print(string4.index('x')) # Raises ValueError"
   ]
  },
  {
   "cell_type": "code",
   "execution_count": 28,
   "id": "894c26ca",
   "metadata": {},
   "outputs": [
    {
     "name": "stdout",
     "output_type": "stream",
     "text": [
      "False\n",
      "True\n"
     ]
    }
   ],
   "source": [
    "# Checking whether 'x' exists in the given string or not using 'in' or 'not in' so the 'ValueError' is not raised\n",
    "\n",
    "# Using 'in':\n",
    "\n",
    "print('x' in string4) # Since the output is 'False' , that means the following value does not exist in the given string.\n",
    "\n",
    "# Using 'not in':\n",
    "\n",
    "print('x' not in string4) # Here, the output 'True' means, that the following value does not exist in the given string.\n",
    "\n",
    "# This way the 'ValueError' that raises in the above example can be avoided."
   ]
  },
  {
   "cell_type": "markdown",
   "id": "62bdefab",
   "metadata": {},
   "source": [
    "### Q9. Which operators and built-in string methods produce simple Boolean (true/false) results?"
   ]
  },
  {
   "cell_type": "markdown",
   "id": "46ec9f28",
   "metadata": {},
   "source": [
    "##### ANSWER:"
   ]
  },
  {
   "cell_type": "markdown",
   "id": "7292cedd",
   "metadata": {},
   "source": [
    "The following are the operators and built-in string methods to produce simple boolean (true/false) results __:__\n",
    "\n",
    "- __``in``__\n",
    "\n",
    "\n",
    "- __``not in``__\n",
    "\n",
    "\n",
    "- __``<string>.isalpha()``__\n",
    "\n",
    "\n",
    "- __``<string>.isalnum()``__\n",
    "\n",
    "\n",
    "- __``<string>.isdecimal()``__\n",
    "\n",
    "\n",
    "- __``<string>.isdigit()``__\n",
    "\n",
    "\n",
    "- __``<string>.islower()``__\n",
    "\n",
    "\n",
    "- __``<string>.isnumeric()``__\n",
    "\n",
    "\n",
    "- __``<string>.isprintable()``__\n",
    "\n",
    "\n",
    "- __``<string>.isspace()``__\n",
    "\n",
    "\n",
    "- __``<string>.istitle()``__"
   ]
  }
 ],
 "metadata": {
  "kernelspec": {
   "display_name": "Python 3 (ipykernel)",
   "language": "python",
   "name": "python3"
  },
  "language_info": {
   "codemirror_mode": {
    "name": "ipython",
    "version": 3
   },
   "file_extension": ".py",
   "mimetype": "text/x-python",
   "name": "python",
   "nbconvert_exporter": "python",
   "pygments_lexer": "ipython3",
   "version": "3.9.7"
  }
 },
 "nbformat": 4,
 "nbformat_minor": 5
}
