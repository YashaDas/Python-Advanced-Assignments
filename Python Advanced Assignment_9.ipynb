{
 "cells": [
  {
   "cell_type": "markdown",
   "id": "7ab19af4",
   "metadata": {},
   "source": [
    "# Python Advanced Assignment_9"
   ]
  },
  {
   "cell_type": "markdown",
   "id": "e84d611e",
   "metadata": {},
   "source": [
    "### Q1. In Python 3.X, what are the names and functions of string object types?"
   ]
  },
  {
   "cell_type": "markdown",
   "id": "653c1f0d",
   "metadata": {},
   "source": [
    "##### ANSWER:"
   ]
  },
  {
   "cell_type": "markdown",
   "id": "0c7b4909",
   "metadata": {},
   "source": [
    "__The following are the names and functions of string object types in Python 3.X:__\n",
    "\n",
    "- ``<stirng>.isdecimal() :`` Returns True if all characters in a string are decimal.\n",
    "- ``<string>.isalnum() :`` Returns True if all characters in the string are AlphaNumeric.\n",
    "- ``<string>.istitle() :`` Returns True if first character in a string is in Uppercase.\n",
    "- ``<string>.partition(<sub_string>) :`` Splits string at first occurance of sub string and returns a tuple of 3 elements.\n",
    "- ``<string>.rpartition(<sub_string>) :`` Splits string at last occurance of sub string and returns a tuple of 3 elements.\n",
    "- ``<string>.isidentifier() :`` Returns True if give string is a valid identifier name.\n",
    "- ``len(<string>) :`` Returns the length of the given string.\n",
    "- ``<string>.index(<sub_string>) :`` Returns the lowest index of substring if substring is found in the string.\n",
    "- ``<string>.rindex(<sub_string>) :`` Returns the highest index of substring if substring is found in the string.\n",
    "- ``max(<string>) :`` Returns the highest Alphabetical Character in the string as per ASCII.\n",
    "- ``min(<string>) :`` Returns the lowest Alphabetical Character in the string as per ASCII.\n",
    "- ``<string>.splitlines() :`` Returns a list of lines in the string.\n",
    "- ``<string>.capitalize() :`` Returns the string with first character capitalized.\n",
    "- ``<string>.upper() :`` Returns the string with all characters in uppercase.\n",
    "- ``<string>.lower() :`` Returns the string with all characters in lowercase\n",
    "- ``<string>.casefold() :`` Returns the string in lowercase which can be used for caseless comparisions.\n",
    "- ``<string>.expandtabs(no_of_spaces) :`` Replaces tabs in a string with specified no of spaces default is 8\n",
    "- ``<string>.find(<sub_string>) :`` Returns lowest index of substring if substring is found in the string else returns -1.\n",
    "- ``<string>.rfind(<sub_string>) :`` Returns highest index of substring if substring is found in the string else returns -1.\n",
    "- ``<string>.count(<char>) :`` Returns the no of occurances of the char in the given string.\n",
    "- ``<string>.split(<sep>) :`` Returns list of words seperated by given sep else seperated by whitespace.\n",
    "- ``<string>.rsplit(<sep>) :`` Returns list of words seperated by given sep else seperated by whitespace scanning from end.\n",
    "- ``<string>.lstrip() :`` Returns a copy of where leading whitespaces are removed.\n",
    "- ``<string>.rstrip() :`` Returns a copy of where trailed whitespaces are removed.\n",
    "- ``<string>.strip() :`` Returns a copy of where both leading and trailing whitespaces are removed.\n",
    "- ``<string>.swapcase() :`` Swaps lowercase characters with uppercase and vice versa.\n",
    "- ``<sep>.join(<list>) :`` Concatenates a list or tuple of words with intervening occuernces of sep.\n",
    "- ``<string>.translate(<mapping_table>) :`` translates the characters using table.\n",
    "- ``<string>.maketrans(<dict>) :`` Creating a mapping translation tbale usable for <string>.translate(<mapping_table>)\n",
    "- ``<string>.replace(<char_1>,<char_2>): `` Replace all occurances of char_1 with char_2 in string.\n",
    "- ``<string>.encode() :`` Encodes string into any encoding supported by python. Default encoding is UTF-8.\n",
    "- ``<string>.ljust(<no_of_spaces>) :`` Left-justify in a field of given width.\n",
    "- ``<string>.rjust(<no_of_spaces>) :`` Right-justify in a field of given width.\n",
    "- ``<string>.center(<no_of_spaces>) :`` Center-justify in a field of given width.\n",
    "- ``<stirng>.zfill(<length>) :`` Zfill adds zeros to the begining of string until the specified length is reached."
   ]
  },
  {
   "cell_type": "markdown",
   "id": "c8eb7ae7",
   "metadata": {},
   "source": [
    "__For Example:__"
   ]
  },
  {
   "cell_type": "code",
   "execution_count": 1,
   "id": "617b1dab",
   "metadata": {},
   "outputs": [
    {
     "name": "stdout",
     "output_type": "stream",
     "text": [
      "True\n",
      "True\n",
      "False\n",
      "('\"I could eat ', 'bananas', ' all day, bananas are my favorite fruit\"')\n",
      "('\"I could eat bananas all day, ', 'bananas', ' are my favorite fruit\"')\n",
      "True\n",
      "17\n",
      "1\n",
      "6\n",
      "t\n",
      "A\n",
      "['Ineuron ', ' Full Stack ', ' Data Science ', ' Course ']\n",
      "Finding nemo\n",
      "DATAPIPELINES\n",
      "mlops\n",
      "doloris jane umbridge\n",
      "Data science    Data Analyst\n",
      "1\n",
      "6\n",
      "2\n",
      "['i', 'euro', '']\n",
      "['i', 'euro', '']\n",
      "EDA \n",
      " EDA\n",
      "EDA\n",
      "eXPLORATORY dATA aNALYSIS\n",
      "Iris_flower_Dataset\n",
      "Hello Pam!\n",
      "Hello Pam!\n",
      "I2euro2\n",
      "b'Natural Language Processing'\n",
      "Nemo      \n",
      "      Nemo\n",
      "   Nemo   \n",
      "00000Hello\n"
     ]
    }
   ],
   "source": [
    "print('1234567890'.isdecimal())\n",
    "print('IneuronFullStackDS'.isalnum())\n",
    "print('Ineuron Full Stack Data science'.istitle())\n",
    "print('\"I could eat bananas all day, bananas are my favorite fruit\"'.partition('bananas'))\n",
    "print('\"I could eat bananas all day, bananas are my favorite fruit\"'.rpartition('bananas'))\n",
    "print('GeeksForFreaks'.isidentifier())\n",
    "print(len('Linear Regression'))\n",
    "print('Ineuron'.index('n'))\n",
    "print('Ineuron'.rindex('n'))\n",
    "print(max('Data_Scientist'))\n",
    "print(min('Data_Analyst'))\n",
    "print('Ineuron \\n Full Stack \\n Data Science \\n Course '.splitlines())\n",
    "print('finding nemo'.capitalize())\n",
    "print('datapipelines'.upper())\n",
    "print('MLOPS'.lower())\n",
    "print('Doloris Jane Umbridge'.casefold())\n",
    "print('Data science\\tData Analyst'.expandtabs(8))\n",
    "print('Ineuron'.find('n'))\n",
    "print('Ineuron'.rfind('n'))\n",
    "print('Transformers'.count('s'))\n",
    "print('ineuron'.split('n'))\n",
    "print('ineuron'.rsplit('n'))\n",
    "print(' EDA '.lstrip())\n",
    "print(' EDA '.rstrip())\n",
    "print(' EDA '.strip())\n",
    "print('Exploratory Data Analysis'.swapcase())\n",
    "print('_'.join(['Iris','flower','Dataset']))\n",
    "\n",
    "mydict = {83:  80}\n",
    "print(\"Hello Sam!\".translate(mydict))\n",
    "\n",
    "txt = \"Hello Sam!\"\n",
    "mytable = txt.maketrans(\"S\", \"P\")\n",
    "print(txt.translate(mytable))\n",
    "\n",
    "print('Ineuron'.replace('n','2'))\n",
    "print('Natural Language Processing'.encode())\n",
    "print('Nemo'.ljust(10))\n",
    "print('Nemo'.rjust(10))\n",
    "print('Nemo'.center(10))\n",
    "print('Hello'.zfill(10))"
   ]
  },
  {
   "cell_type": "markdown",
   "id": "3aac7dfe",
   "metadata": {},
   "source": [
    "### Q2. How do the string forms in Python 3.X vary in terms of operations?"
   ]
  },
  {
   "cell_type": "markdown",
   "id": "5347acac",
   "metadata": {},
   "source": [
    "##### ANSWER:"
   ]
  },
  {
   "cell_type": "markdown",
   "id": "4ddaa8c5",
   "metadata": {},
   "source": [
    "The string forms in Python 3.X vary in terms of operations as in Python 3, all strings are represented in __Unicode__. In Python 2 the strings are stored internally as __8-bit ASCII__, hence it is required to attach ``u`` to make it Unicode. It is no longer necessary now."
   ]
  },
  {
   "cell_type": "markdown",
   "id": "76c92bfe",
   "metadata": {},
   "source": [
    "### Q3. In 3.X, how do you put non-ASCII Unicode characters in a string?"
   ]
  },
  {
   "cell_type": "markdown",
   "id": "94f4eff4",
   "metadata": {},
   "source": [
    "##### ANSWER:"
   ]
  },
  {
   "cell_type": "markdown",
   "id": "0a8c391f",
   "metadata": {},
   "source": [
    "In Python 3.X, ``unidecode()`` method from unidecode library can be used to put non-ASCII Unicode Characters in a string."
   ]
  },
  {
   "cell_type": "markdown",
   "id": "bee5a1d5",
   "metadata": {},
   "source": [
    "__For Example:__"
   ]
  },
  {
   "cell_type": "code",
   "execution_count": 2,
   "id": "b6c6251f",
   "metadata": {},
   "outputs": [
    {
     "name": "stdout",
     "output_type": "stream",
     "text": [
      "kozuscek\n",
      "aap niice apnii bhaassaa aur inputt upkrnn cuneN aur likhnaa aarNbh kreN\n",
      "Xie Xie Ni \n",
      "arigatou. \n",
      "ulybat'sia Vladimir Putin\n"
     ]
    }
   ],
   "source": [
    "from unidecode import unidecode\n",
    "print(unidecode(u'ko\\u017eu\\u0161\\u010dek'))\n",
    "print(unidecode(\"आप नीचे अपनी भाषा और इनपुट उपकरण चुनें और लिखना आरंभ करें\"))\n",
    "print(unidecode(\"谢谢你\"))\n",
    "print(unidecode(\"ありがとう。\"))\n",
    "print(unidecode(\"улыбаться Владимир Путин\"))"
   ]
  },
  {
   "cell_type": "markdown",
   "id": "78f5cd9f",
   "metadata": {},
   "source": [
    "### Q4. In Python 3.X, what are the key differences between text-mode and binary-mode files?"
   ]
  },
  {
   "cell_type": "markdown",
   "id": "75f52c60",
   "metadata": {},
   "source": [
    "##### ANSWER:"
   ]
  },
  {
   "cell_type": "markdown",
   "id": "140fe1be",
   "metadata": {},
   "source": [
    "The key differences between __text-mode__ and __binary-mode__ files is that a __text file__ contains textual information in the form of alphabets, digits and special characters or symbols. On the other hand, a __binary file__ contains bytes or a compiled version of a text file.\n",
    "\n",
    "When a file is opened in __text mode__, reading its data automatically decodes its content (as per the platform default or as per provided encoding), and returns it as a ``str``; writing operation takes a ``str``, and automatically encodes it before transferring to the file. Text mode files also support universal end-of-line translation, and encoding specification arguments.\n",
    "\n",
    "When a file is opened in __binary mode__ by adding ``a``, ``b`` to the mode string argument in the ``open()`` call, reading its data does not decode it in any way, and simply returns its content raw and unchanged, as a bytes object; writing takes a bytes object and transfers it to the file unchanged. Binary-mode files also accept a bytearray object for the content to be written to the file."
   ]
  },
  {
   "cell_type": "markdown",
   "id": "8895a906",
   "metadata": {},
   "source": [
    "### Q5. How can you interpret a Unicode text file containing text encoded in a different encoding than your platform's default?"
   ]
  },
  {
   "cell_type": "markdown",
   "id": "8c59b682",
   "metadata": {},
   "source": [
    "##### ANSWER:"
   ]
  },
  {
   "cell_type": "markdown",
   "id": "597b032e",
   "metadata": {},
   "source": [
    "The following methods can be used to interpret a Unicode text file containing text encoded in a different encoding than your platforms default:\n",
    "\n",
    "\n",
    "- ``encode()``\n",
    "\n",
    "\n",
    "- ``decode()``\n",
    "\n",
    "\n",
    "By default encoding parameter is ``UTF-8``."
   ]
  },
  {
   "cell_type": "markdown",
   "id": "68e09db1",
   "metadata": {},
   "source": [
    "### Q6. What is the best way to make a Unicode text file in a particular encoding format?"
   ]
  },
  {
   "cell_type": "markdown",
   "id": "8639b36f",
   "metadata": {},
   "source": [
    "##### ANSWER:"
   ]
  },
  {
   "cell_type": "markdown",
   "id": "15bd6a2e",
   "metadata": {},
   "source": [
    "Use ``str.encode()`` and ``file.write()`` to make a Unicode text file in a particular encoding format, default encoding format is ``UTF-18``.\n",
    "\n",
    "- Call ``str.encode(encoding)`` with encoding set to ``UTF-8`` to encode str.\n",
    "\n",
    "\n",
    "- Call ``open(file, mode)`` to open a file with mode set to ``wb`` . ``wb`` writes to files in binary mode & preserves ``UTF-8`` format.\n",
    "\n",
    "\n",
    "- Call ``file.write(data)`` to write data to the file."
   ]
  },
  {
   "cell_type": "markdown",
   "id": "10b6edb2",
   "metadata": {},
   "source": [
    "__For Example:__"
   ]
  },
  {
   "cell_type": "code",
   "execution_count": null,
   "id": "145e2101",
   "metadata": {},
   "outputs": [],
   "source": [
    "unicode_text = u\"улыбаться Владимир Путин\"\n",
    "encoded_unicode_text = unicode_text.encode(\"utf-8\")\n",
    "print(encoded_unicode_text,end=\"\\n\\n\")\n",
    "\n",
    "w_file = open(\"w_file.txt\",\"wb\")\n",
    "w_file.write(encoded_unicode_text)\n",
    "w_file.close()\n",
    "\n",
    "r_file = open(\"w_file.txt\",\"rb\")\n",
    "data = r_file.read()\n",
    "print(data)"
   ]
  },
  {
   "cell_type": "markdown",
   "id": "acc8945e",
   "metadata": {},
   "source": [
    "### Q7. What qualifies ASCII text as a form of Unicode text?"
   ]
  },
  {
   "cell_type": "markdown",
   "id": "13522779",
   "metadata": {},
   "source": [
    "##### ANSWER:"
   ]
  },
  {
   "cell_type": "markdown",
   "id": "9533c350",
   "metadata": {},
   "source": [
    "__``Unicode``__ and __``ASCII``__ are the most popular character encoding standards that are currently being used all over the world. __``Unicode``__ is the universal character encoding used to process, store and facilitate the interchange of text data in any language while __``ASCII``__ is used for the representation of text such as symbols, letters, digits, etc. in computers.\n",
    "\n",
    "\n",
    "__``Unicode``__ covers encoding of the texts in different languages (even those with the bidirectional scripts such as Hebrew and Arabic), of symbols, mathematical and historical scripts, etc., whereas __``ASCII``__ covers encoding of characters of English language which includes the upper case letter (A-Z), the lower case letters (a-z), digits (0-9) and symbols such as punctuation marks.\n",
    "\n",
    "\n",
    "__``Unicode``__ utilizes three kinds of encoding namely that of 8bit, 16bit, and 32bit whereas __``ASCII``__ I operates by utilizing 7bit to represent any character. Therefore, __``Unicode``__ is also the superset of __``ASCII``__ and occupies more space than it."
   ]
  },
  {
   "cell_type": "markdown",
   "id": "52165e90",
   "metadata": {},
   "source": [
    "### Q8. How much of an effect does the change in string types in Python 3.X have on your code?"
   ]
  },
  {
   "cell_type": "markdown",
   "id": "5693d943",
   "metadata": {},
   "source": [
    "##### ANSWER:"
   ]
  },
  {
   "cell_type": "markdown",
   "id": "b3f7ed96",
   "metadata": {},
   "source": [
    "Python 3.X stores strings as __Unicode__ by default whereas Python 2 requires you to mark a string with a ``u`` if you want to store it as __Unicode__. __Unicode__ strings are more versatile than __ASCII__ strings, which is a default in Python 3.X , as they can store letters from foreign languages as well as emoji and the standard Roman letters and numerals. "
   ]
  }
 ],
 "metadata": {
  "kernelspec": {
   "display_name": "Python 3 (ipykernel)",
   "language": "python",
   "name": "python3"
  },
  "language_info": {
   "codemirror_mode": {
    "name": "ipython",
    "version": 3
   },
   "file_extension": ".py",
   "mimetype": "text/x-python",
   "name": "python",
   "nbconvert_exporter": "python",
   "pygments_lexer": "ipython3",
   "version": "3.9.7"
  }
 },
 "nbformat": 4,
 "nbformat_minor": 5
}
