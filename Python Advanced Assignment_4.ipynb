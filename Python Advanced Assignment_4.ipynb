{
 "cells": [
  {
   "cell_type": "markdown",
   "id": "7405e25e",
   "metadata": {},
   "source": [
    "# Python Advanced Assignment_4"
   ]
  },
  {
   "cell_type": "markdown",
   "id": "8df99bfe",
   "metadata": {},
   "source": [
    "### Q1. Which two operator overloading methods can you use in your classes to support iteration?"
   ]
  },
  {
   "cell_type": "markdown",
   "id": "8c297543",
   "metadata": {},
   "source": [
    "##### ANSWER:"
   ]
  },
  {
   "cell_type": "markdown",
   "id": "eafa6c14",
   "metadata": {},
   "source": [
    "The following are the two operator overloading methods that you can use in your classes to support iteration are:\n",
    "\n",
    "- ``__iter__`` : The ``__iter__`` method will always return the iterator object itself. We can initialize variables in this method.\n",
    "\n",
    "\n",
    "\n",
    "- ``__next__`` : The ``__next__`` method is created to return the next element from the iterator. To reach the end we must raise the StopIteration error in this method."
   ]
  },
  {
   "cell_type": "markdown",
   "id": "3f1b51f9",
   "metadata": {},
   "source": [
    "###### For Example:"
   ]
  },
  {
   "cell_type": "code",
   "execution_count": 1,
   "id": "e31eecad",
   "metadata": {},
   "outputs": [
    {
     "name": "stdout",
     "output_type": "stream",
     "text": [
      "5\n",
      "6\n",
      "7\n",
      "8\n",
      "9\n",
      "10\n",
      "11\n",
      "12\n",
      "13\n",
      "14\n",
      "15\n"
     ]
    }
   ],
   "source": [
    "class Counter:\n",
    "    def __init__(self, low, high):\n",
    "        self.current = low\n",
    "        self.high = high\n",
    " \n",
    "    def __iter__(self):\n",
    "        return self\n",
    " \n",
    "    def __next__(self):\n",
    "        if self.current > self.high:\n",
    "            raise StopIteration\n",
    "        else:\n",
    "            self.current += 1\n",
    "            return self.current - 1\n",
    " \n",
    " \n",
    "for num in Counter(5, 15):\n",
    "    print(num)"
   ]
  },
  {
   "cell_type": "markdown",
   "id": "8d2fa447",
   "metadata": {},
   "source": [
    "### Q2. In what contexts do the two operator overloading methods manage printing?"
   ]
  },
  {
   "cell_type": "markdown",
   "id": "b26476b1",
   "metadata": {},
   "source": [
    "##### ANSWER:"
   ]
  },
  {
   "cell_type": "markdown",
   "id": "44fd7c9b",
   "metadata": {},
   "source": [
    "The following are the two operator overloading methods that manage prinintg:\n",
    "\n",
    "    \n",
    "- ``__str__`` : The ``__str__`` method produces a user-friendly result. You can override the ``__str__`` method and implement it according to your need. This method is used to obtain a textual representation of an object that the user can understand. The following method gets invoke when we pass the variable to the print() function or the str() function.\n",
    "\n",
    "    \n",
    "    \n",
    "- ``__repr__`` : The ``__repr__`` method produces a developer-friendly result.  You should not override the ``__repr__`` method. This method is mainly used by developers while debugging. The following method invokes the output when we type the variable’s name or the object in the interactive python console.\n",
    "\n",
    "\n",
    "\n",
    "So, the following methods ``__str__`` and ``__repr__ `` defines how the object is presented “textually”. These methods are implemented in the class that produces the objects."
   ]
  },
  {
   "cell_type": "markdown",
   "id": "d655f8c0",
   "metadata": {},
   "source": [
    "###### For Example:"
   ]
  },
  {
   "cell_type": "code",
   "execution_count": 2,
   "id": "bb9e1ca4",
   "metadata": {},
   "outputs": [
    {
     "name": "stdout",
     "output_type": "stream",
     "text": [
      "The string representation of student object is:\n",
      "Name: ABC XYZ , Age: 23\n"
     ]
    }
   ],
   "source": [
    "# Example 1\n",
    "\n",
    "class Student:\n",
    "    def __init__(self, name, age):\n",
    "        self.name = name\n",
    "        self.age = age\n",
    "\n",
    "    def __str__(self):\n",
    "        myString = \"Name: {} , Age: {}\".format(self.name, self.age)\n",
    "        return myString\n",
    "\n",
    "\n",
    "student1 = Student(\"ABC XYZ\", 23)\n",
    "myStr = str(student1)\n",
    "print(\"The string representation of student object is:\")\n",
    "print(myStr)"
   ]
  },
  {
   "cell_type": "code",
   "execution_count": 3,
   "id": "e92c3ae0",
   "metadata": {},
   "outputs": [
    {
     "name": "stdout",
     "output_type": "stream",
     "text": [
      "2022-06-24 18:05:25.602165\n",
      "datetime.datetime(2022, 6, 24, 18, 5, 25, 602165)\n"
     ]
    }
   ],
   "source": [
    "# Example 2\n",
    "\n",
    "import datetime\n",
    "today = datetime.datetime.now()\n",
    "print(str(today))\n",
    "print(repr(today))"
   ]
  },
  {
   "cell_type": "code",
   "execution_count": 4,
   "id": "83f2a69f",
   "metadata": {},
   "outputs": [
    {
     "name": "stdout",
     "output_type": "stream",
     "text": [
      "<__main__.Fruit object at 0x0000014073DB3100>\n"
     ]
    }
   ],
   "source": [
    "# Example 3\n",
    "\n",
    "class Fruit:\n",
    "    def __init__(self, name):\n",
    "        self.name = name\n",
    "banana = Fruit(\"Banana\")\n",
    "print(banana)"
   ]
  },
  {
   "cell_type": "code",
   "execution_count": 5,
   "id": "3f280ac6",
   "metadata": {},
   "outputs": [
    {
     "name": "stdout",
     "output_type": "stream",
     "text": [
      "I am a Banana\n"
     ]
    }
   ],
   "source": [
    "class Fruit:\n",
    "    def __init__(self, name):\n",
    "        self.name = name\n",
    "    \n",
    "    def __str__(self):\n",
    "        return f'I am a {self.name}'\n",
    "    \n",
    "    def __repr__(self):\n",
    "        return f'Fruit(\"{self.name}\")'\n",
    "    \n",
    "banana = Fruit(\"Banana\")\n",
    "print(banana)"
   ]
  },
  {
   "cell_type": "code",
   "execution_count": 6,
   "id": "4ac2eb4d",
   "metadata": {},
   "outputs": [
    {
     "name": "stdout",
     "output_type": "stream",
     "text": [
      "I am a Banana\n"
     ]
    }
   ],
   "source": [
    "print(banana.__str__())"
   ]
  },
  {
   "cell_type": "code",
   "execution_count": 7,
   "id": "787cb3b2",
   "metadata": {},
   "outputs": [
    {
     "name": "stdout",
     "output_type": "stream",
     "text": [
      "Fruit(\"Banana\")\n"
     ]
    }
   ],
   "source": [
    "print(banana.__repr__())"
   ]
  },
  {
   "cell_type": "markdown",
   "id": "dd60167b",
   "metadata": {},
   "source": [
    "### Q3. In a class, how do you intercept slice operations?"
   ]
  },
  {
   "cell_type": "markdown",
   "id": "ad057169",
   "metadata": {},
   "source": [
    "##### ANSWER:"
   ]
  },
  {
   "cell_type": "markdown",
   "id": "9dd23eb8",
   "metadata": {},
   "source": [
    "You can intercept slice operations using the ``__getitem__`` method. The ``__getitem__`` method is used for accessing list items, array elements, dictionary entries etc. ``slice()`` is a constructor in Python that creates slice object to represent set of indices that the range(start, stop, step) specifies. ``__getitem__`` method can be implement in a class, and the behavior of slicing can be defined inside it."
   ]
  },
  {
   "cell_type": "markdown",
   "id": "45a0c860",
   "metadata": {},
   "source": [
    "###### Syntax:"
   ]
  },
  {
   "cell_type": "code",
   "execution_count": null,
   "id": "c6c43f0a",
   "metadata": {},
   "outputs": [],
   "source": [
    "__getitem__(slice(start, stop, step))"
   ]
  },
  {
   "cell_type": "markdown",
   "id": "96008224",
   "metadata": {},
   "source": [
    "###### Parameter:\n",
    "\n",
    "- __slice()__ : constructor to create slice object.\n",
    "    \n",
    "    \n",
    "- __start__ : An integer number specifying start index.It is optional and default is 0.\n",
    "    \n",
    "    \n",
    "- __stop__ : An integer number specifying end index.\n",
    "    \n",
    "    \n",
    "- __step__ : An integer number specifying the step of slicing. It is optional and\n",
    "default is 1."
   ]
  },
  {
   "cell_type": "markdown",
   "id": "204de2d2",
   "metadata": {},
   "source": [
    "###### For Example:"
   ]
  },
  {
   "cell_type": "code",
   "execution_count": 8,
   "id": "7b15c164",
   "metadata": {},
   "outputs": [
    {
     "name": "stdout",
     "output_type": "stream",
     "text": [
      "ab\n"
     ]
    }
   ],
   "source": [
    "# abcde is string can be \n",
    "# an array as well.\n",
    "\n",
    "sliced ='abcde'.__getitem__(slice(0, 2, 1)) \n",
    "print(sliced)"
   ]
  },
  {
   "cell_type": "markdown",
   "id": "9fc25a98",
   "metadata": {},
   "source": [
    "### Q4. In a class, how do you capture in-place addition?"
   ]
  },
  {
   "cell_type": "markdown",
   "id": "15e08d94",
   "metadata": {},
   "source": [
    "##### ANSWER:"
   ]
  },
  {
   "cell_type": "markdown",
   "id": "9ad81d1c",
   "metadata": {},
   "source": [
    "__In-place operation__ is an operation that changes directly the content of a given linear algebra, vector, matrices(Tensor) without making a copy. The operators which helps to do the operation is called in-place operator.\n",
    "\n",
    "__Eg:__ a+= b is equivalent to a= operator.iadd(a, b)."
   ]
  },
  {
   "cell_type": "markdown",
   "id": "e6877748",
   "metadata": {},
   "source": [
    "To capture in-place addition, the ``iadd()`` in-place operator is used:\n",
    "\n",
    "This function is used to assign the current value and add them. This operator does _x+=y_ operation. In case of strings, numbers assigning is not performed."
   ]
  },
  {
   "cell_type": "markdown",
   "id": "b12f008e",
   "metadata": {},
   "source": [
    "###### For Example:"
   ]
  },
  {
   "cell_type": "code",
   "execution_count": 10,
   "id": "1c6258ae",
   "metadata": {},
   "outputs": [
    {
     "name": "stdout",
     "output_type": "stream",
     "text": [
      "The result after adding : 10\n"
     ]
    }
   ],
   "source": [
    "import operator\n",
    "a =operator.iadd(7, 3);\n",
    "print (\"The result after adding : \", end=\"\")\n",
    "print(a)"
   ]
  },
  {
   "cell_type": "markdown",
   "id": "456a9769",
   "metadata": {},
   "source": [
    "### Q5. When is it appropriate to use operator overloading?"
   ]
  },
  {
   "cell_type": "markdown",
   "id": "1fa23d1c",
   "metadata": {},
   "source": [
    "##### ANSWER:"
   ]
  },
  {
   "cell_type": "markdown",
   "id": "345ad6c1",
   "metadata": {},
   "source": [
    "Operator overloading is used when we want to use an operator other than its normal operation to have different meaning according to the context required in user defined function."
   ]
  },
  {
   "cell_type": "markdown",
   "id": "d5889862",
   "metadata": {},
   "source": [
    "###### For Example:"
   ]
  },
  {
   "cell_type": "code",
   "execution_count": 12,
   "id": "592c1dcb",
   "metadata": {},
   "outputs": [
    {
     "name": "stdout",
     "output_type": "stream",
     "text": [
      "Total Number of Pages: 300\n"
     ]
    }
   ],
   "source": [
    "class Book:\n",
    "    def __init__(self,pages):\n",
    "        self.pages = pages\n",
    "    def __add__(self,other):\n",
    "        return self.pages+other.pages\n",
    "b1 = Book(100)\n",
    "b2 = Book(200)\n",
    "print(f'Total Number of Pages: {b1+b2}')"
   ]
  }
 ],
 "metadata": {
  "kernelspec": {
   "display_name": "Python 3 (ipykernel)",
   "language": "python",
   "name": "python3"
  },
  "language_info": {
   "codemirror_mode": {
    "name": "ipython",
    "version": 3
   },
   "file_extension": ".py",
   "mimetype": "text/x-python",
   "name": "python",
   "nbconvert_exporter": "python",
   "pygments_lexer": "ipython3",
   "version": "3.9.7"
  }
 },
 "nbformat": 4,
 "nbformat_minor": 5
}
