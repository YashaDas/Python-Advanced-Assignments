{
 "cells": [
  {
   "cell_type": "markdown",
   "id": "64f8d075",
   "metadata": {},
   "source": [
    "### Python Advanced Assignment_25"
   ]
  },
  {
   "cell_type": "markdown",
   "id": "c5b4222e",
   "metadata": {},
   "source": [
    "#### Q1. What is the distinction between a numpy array and a pandas data frame? Is there a way to convert between the two if there is?"
   ]
  },
  {
   "cell_type": "markdown",
   "id": "40c982e1",
   "metadata": {},
   "source": [
    "___Ans:___ The distinction between a numpy array and a pandas data frame is__:__\n",
    "\n",
    "- __Numpy array__ __:__ Numpy Ndarray provides a lot of convenient and optimized methods for performing several mathematical operations on vectors.\n",
    "\n",
    "- __Pandas DataFrame__ __:__ Pandas DataFrame is an in-memory 2-dimensional tabular representation of data. In simpler words, it can be seen as a spreadsheet having rows and columns.\n",
    "\n",
    "The following is the way to perform the conversion between the two is __:__\n",
    "__``Dataframe=pandas.DataFrame(array)``__"
   ]
  },
  {
   "cell_type": "markdown",
   "id": "9fb339fe",
   "metadata": {},
   "source": [
    "#### Q2. What can go wrong when an user enters in a stock-ticker symbol, and how do you handle it?"
   ]
  },
  {
   "cell_type": "markdown",
   "id": "feee6db9",
   "metadata": {},
   "source": [
    "___Ans:___ When an user enters in a wrong or non-existent stock-ticker symbol, the program will give an error and it might also stop working altogether. \n",
    "\n",
    "The best way to handle the error when the user enters a wrong or non-existent stock-ticker symbol is by not specifiying the exact ticker(stock-ticker) value."
   ]
  },
  {
   "cell_type": "markdown",
   "id": "8ff2363d",
   "metadata": {},
   "source": [
    "#### Q3. Identify some of the plotting techniques that are used to produce a stock-market chart."
   ]
  },
  {
   "cell_type": "markdown",
   "id": "74ed112f",
   "metadata": {},
   "source": [
    "___Ans:___ The following are some of the plotting techniques that are use to produce a stock-market chart __:__\n",
    "\n",
    "\n",
    "- ___Bar Chart___\n",
    "\n",
    "- ___Line Chart___ \n",
    "\n",
    "- ___Candlestick Chart___ _(using mplfinance module)_ "
   ]
  },
  {
   "cell_type": "markdown",
   "id": "3ad8a9ee",
   "metadata": {},
   "source": [
    "#### Q4. Why is it essential to print a legend on a stock market chart?"
   ]
  },
  {
   "cell_type": "markdown",
   "id": "defb4974",
   "metadata": {},
   "source": [
    "___Ans:___ It is essential to print a legend on a stock market chart as ___legend___ helps in comparsion between different stocks.Each plot of a Stock chart has a legend, its items representing the series on the plot. In addition, the legend displays information about the points that are currently hovered over or, if none are hovered over, about the last points shown on the plot. The text of a legend item includes the name of a series and, depending on the series type, the value or values of the current or last point. The legend title, enabled by default, shows the current or last date (X-value)."
   ]
  },
  {
   "cell_type": "markdown",
   "id": "52e92fb4",
   "metadata": {},
   "source": [
    "#### Q5. What is the best way to limit the length of a pandas data frame to less than a year?"
   ]
  },
  {
   "cell_type": "markdown",
   "id": "36e11866",
   "metadata": {},
   "source": [
    "___Ans:___ The best way to limit the length of a pandas data frame to less than a year is by using __start__ and __end__ parameters. Here, for the __start__ parameter we input the date from where we want to start and for the __end__ parameter we input the date where we want to end. Hence, restricting a duration within this span. \n",
    "Also, we can use parameters like __periods__ to set the time duration according to our need or the __frequency__ parameter can be used as well."
   ]
  },
  {
   "cell_type": "markdown",
   "id": "06ec7ce8",
   "metadata": {},
   "source": [
    "#### Q6. What is the definition of a 180-day moving average?"
   ]
  },
  {
   "cell_type": "markdown",
   "id": "f1c48535",
   "metadata": {},
   "source": [
    "___Ans:___ The __180-day moving average__ is represented as a line on charts and _represents the average price over the past 180 days_. The moving average can give traders a sense regarding whether the trend is up or down, while also identifying potential support or resistance areas. A _moving average (MA)_ is a stock indicator that is commonly used in technical analysis. The reason for calculating the moving average of a stock is to help smooth out the price data over a specified period of time by creating a constantly updated average price. A _simple moving average (SMA)_ is a calculation that takes the arithmetic mean of a given set of prices over the specific number of days in the past. _For example: In this case over 180 days._"
   ]
  }
 ],
 "metadata": {
  "kernelspec": {
   "display_name": "Python 3 (ipykernel)",
   "language": "python",
   "name": "python3"
  },
  "language_info": {
   "codemirror_mode": {
    "name": "ipython",
    "version": 3
   },
   "file_extension": ".py",
   "mimetype": "text/x-python",
   "name": "python",
   "nbconvert_exporter": "python",
   "pygments_lexer": "ipython3",
   "version": "3.9.7"
  }
 },
 "nbformat": 4,
 "nbformat_minor": 5
}
