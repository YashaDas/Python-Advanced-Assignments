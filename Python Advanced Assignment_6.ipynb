{
 "cells": [
  {
   "cell_type": "markdown",
   "id": "4cb01e79",
   "metadata": {},
   "source": [
    "# Python Advanced Assignment_6"
   ]
  },
  {
   "cell_type": "markdown",
   "id": "fc9bd4a6",
   "metadata": {},
   "source": [
    "### Q1. Describe three applications for exception processing."
   ]
  },
  {
   "cell_type": "markdown",
   "id": "b98b6e38",
   "metadata": {},
   "source": [
    "##### ANSWER:"
   ]
  },
  {
   "cell_type": "markdown",
   "id": "e3e3ca1b",
   "metadata": {},
   "source": [
    "The three applications for exception processing are as follows:\n",
    "    \n",
    "    \n",
    "- Checking appropriate use of input in an application.\n",
    "\n",
    "\n",
    "- Checking for Arithmetic exceptions in mathematical executions.\n",
    "\n",
    "\n",
    "- Checking File I/O exceptions during File handling."
   ]
  },
  {
   "cell_type": "markdown",
   "id": "c2ba7713",
   "metadata": {},
   "source": [
    "### Q2. What happens if you don't do something extra to treat an exception?"
   ]
  },
  {
   "cell_type": "markdown",
   "id": "e12380ef",
   "metadata": {},
   "source": [
    "##### ANSWER:"
   ]
  },
  {
   "cell_type": "markdown",
   "id": "27c3f3db",
   "metadata": {},
   "source": [
    "If you don't do something extra to treat an exception, flow of program will be broken during the run time which might lead to a abnormal termination of the program. In other words, your program won't know what to do and will crash."
   ]
  },
  {
   "cell_type": "markdown",
   "id": "633a6096",
   "metadata": {},
   "source": [
    "### Q3. What are your options for recovering from an exception in your script?"
   ]
  },
  {
   "cell_type": "markdown",
   "id": "4291f943",
   "metadata": {},
   "source": [
    "##### ANSWER:"
   ]
  },
  {
   "cell_type": "markdown",
   "id": "7bd36a36",
   "metadata": {},
   "source": [
    "The following statements are your options for recovering from an exception in your script:\n",
    "\n",
    "    \n",
    "- ``try``\n",
    "\n",
    "\n",
    "\n",
    "- ``except``"
   ]
  },
  {
   "cell_type": "markdown",
   "id": "12ac28c2",
   "metadata": {},
   "source": [
    "### Q4. Describe two methods for triggering exceptions in your script."
   ]
  },
  {
   "cell_type": "markdown",
   "id": "678a40a3",
   "metadata": {},
   "source": [
    "##### ANSWER:"
   ]
  },
  {
   "cell_type": "markdown",
   "id": "f622a5c8",
   "metadata": {},
   "source": [
    "The following are the two methods for triggering exceptions in your script:\n",
    "\n",
    "    \n",
    "- ``raise`` __:__ This method triggers an exception if the condition provided turns out to be True.\n",
    "\n",
    "\n",
    "- ``assert``__:__ This method let's the program to continue execution if condition provided turns out to be True else exception will be raised."
   ]
  },
  {
   "cell_type": "markdown",
   "id": "4e5bc217",
   "metadata": {},
   "source": [
    "###### Example of raise:"
   ]
  },
  {
   "cell_type": "code",
   "execution_count": 2,
   "id": "8337e6ab",
   "metadata": {},
   "outputs": [
    {
     "ename": "Exception",
     "evalue": "X Value Should not exceed 5 The Provided Value of X is 10",
     "output_type": "error",
     "traceback": [
      "\u001b[1;31m---------------------------------------------------------------------------\u001b[0m",
      "\u001b[1;31mException\u001b[0m                                 Traceback (most recent call last)",
      "\u001b[1;32mC:\\Users\\COMPUT~1\\AppData\\Local\\Temp/ipykernel_13200/365845680.py\u001b[0m in \u001b[0;36m<module>\u001b[1;34m\u001b[0m\n\u001b[0;32m      1\u001b[0m \u001b[0mx\u001b[0m \u001b[1;33m=\u001b[0m \u001b[1;36m10\u001b[0m\u001b[1;33m\u001b[0m\u001b[1;33m\u001b[0m\u001b[0m\n\u001b[1;32m----> 2\u001b[1;33m \u001b[1;32mraise\u001b[0m \u001b[0mException\u001b[0m\u001b[1;33m(\u001b[0m\u001b[1;34mf'X Value Should not exceed 5 The Provided Value of X is {x}'\u001b[0m\u001b[1;33m)\u001b[0m\u001b[1;33m\u001b[0m\u001b[1;33m\u001b[0m\u001b[0m\n\u001b[0m",
      "\u001b[1;31mException\u001b[0m: X Value Should not exceed 5 The Provided Value of X is 10"
     ]
    }
   ],
   "source": [
    "x = 10\n",
    "raise Exception(f'X Value Should not exceed 5 The Provided Value of X is {x}')"
   ]
  },
  {
   "cell_type": "markdown",
   "id": "fe3d056d",
   "metadata": {},
   "source": [
    "###### Example of assert:"
   ]
  },
  {
   "cell_type": "code",
   "execution_count": 3,
   "id": "bd5f3283",
   "metadata": {},
   "outputs": [
    {
     "ename": "AssertionError",
     "evalue": "2 is not equal to 4",
     "output_type": "error",
     "traceback": [
      "\u001b[1;31m---------------------------------------------------------------------------\u001b[0m",
      "\u001b[1;31mAssertionError\u001b[0m                            Traceback (most recent call last)",
      "\u001b[1;32mC:\\Users\\COMPUT~1\\AppData\\Local\\Temp/ipykernel_13200/1346161642.py\u001b[0m in \u001b[0;36m<module>\u001b[1;34m\u001b[0m\n\u001b[1;32m----> 1\u001b[1;33m \u001b[1;32massert\u001b[0m\u001b[1;33m(\u001b[0m\u001b[1;36m2\u001b[0m\u001b[1;33m==\u001b[0m\u001b[1;36m4\u001b[0m\u001b[1;33m)\u001b[0m\u001b[1;33m,\u001b[0m \u001b[1;34m\"2 is not equal to 4\"\u001b[0m\u001b[1;33m\u001b[0m\u001b[1;33m\u001b[0m\u001b[0m\n\u001b[0m",
      "\u001b[1;31mAssertionError\u001b[0m: 2 is not equal to 4"
     ]
    }
   ],
   "source": [
    "assert(2==4), \"2 is not equal to 4\""
   ]
  },
  {
   "cell_type": "markdown",
   "id": "2a585945",
   "metadata": {},
   "source": [
    "### Q5. Identify two methods for specifying actions to be executed at termination time, regardless of whether or not an exception exists."
   ]
  },
  {
   "cell_type": "markdown",
   "id": "8a2eeeaf",
   "metadata": {},
   "source": [
    "##### ANSWER:"
   ]
  },
  {
   "cell_type": "markdown",
   "id": "139baffb",
   "metadata": {},
   "source": [
    "The following are the two methods for specifying actions to be executed at termination time, regardless of whether or not exception exists:\n",
    "\n",
    "- ``else``\n",
    "\n",
    "\n",
    "- ``finally``"
   ]
  }
 ],
 "metadata": {
  "kernelspec": {
   "display_name": "Python 3 (ipykernel)",
   "language": "python",
   "name": "python3"
  },
  "language_info": {
   "codemirror_mode": {
    "name": "ipython",
    "version": 3
   },
   "file_extension": ".py",
   "mimetype": "text/x-python",
   "name": "python",
   "nbconvert_exporter": "python",
   "pygments_lexer": "ipython3",
   "version": "3.9.7"
  }
 },
 "nbformat": 4,
 "nbformat_minor": 5
}
