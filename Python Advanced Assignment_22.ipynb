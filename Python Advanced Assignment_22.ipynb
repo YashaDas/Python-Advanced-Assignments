{
 "cells": [
  {
   "cell_type": "markdown",
   "id": "fda463f3",
   "metadata": {},
   "source": [
    "### Python Advanced Assignment_22"
   ]
  },
  {
   "cell_type": "markdown",
   "id": "be84bd3a",
   "metadata": {},
   "source": [
    "#### Q1. What are the benefits of the built-in array package, if any?"
   ]
  },
  {
   "cell_type": "markdown",
   "id": "1355fd11",
   "metadata": {},
   "source": [
    "___Ans:___ The benefits of the built-in array package, if any are:\n",
    "\n",
    "\n",
    "__1.__ Arrays represent multiple data items of the same type using a single name.\n",
    "\n",
    "\n",
    "__2.__ In arrays, the elements can be accessed randomly by using the index number.\n",
    "\n",
    "\n",
    "__3.__ Arrays allocate memory in contiguous memory locations for all its elements. Hence there is no chance of extra memory being allocated in case of arrays. This avoids memory overflow or shortage of memory in arrays."
   ]
  },
  {
   "cell_type": "markdown",
   "id": "4153cfe3",
   "metadata": {},
   "source": [
    "#### Q2. What are some of the array package's limitations?"
   ]
  },
  {
   "cell_type": "markdown",
   "id": "f9ede1ec",
   "metadata": {},
   "source": [
    "___Ans:___ The following are some of the array package's limitations:\n",
    "    \n",
    "\n",
    "__1.__ The number of elements to be stored in an array should be known in advance. An array is a static structure (which means the array is of fixed size). Once declared the size of the array cannot be modified. The memory which is allocated to it cannot be increased or decreased.\n",
    "\n",
    "\n",
    "__2.__ Insertion and deletion are quite difficult in an array as the elements are stored in consecutive memory locations and the shifting operation is costly.\n",
    "\n",
    "\n",
    "__3.__ Allocating more memory than the requirement leads to wastage of memory space and less allocation of memory also leads to a problem."
   ]
  },
  {
   "cell_type": "markdown",
   "id": "a201e88d",
   "metadata": {},
   "source": [
    "#### Q3. Describe the main differences between the array and numpy packages."
   ]
  },
  {
   "cell_type": "markdown",
   "id": "c72aaa54",
   "metadata": {},
   "source": [
    "___Ans:___ The following are the main differences between the array and numpy packages:\n",
    "\n",
    "\n",
    "- The array package doesn't provide any help with numerical calculation with the items insdie it in number form whereas NumPy give you a wide variety of numerical operations.\n",
    "\n",
    "\n",
    "\n",
    "- An array is a single dimensional entity which hold the numerical data, whereas numpy can have more than 1 dimension.\n",
    "\n",
    "\n",
    "\n",
    "- In case of array, item can be accessed by its index position and it is easy task whereas in numpy item is accessed by its column and row index, which makes it slightly time taking. Same goes with appending operation.\n",
    "\n",
    "\n",
    "\n",
    "- In case of array we do not form a tabular structure, whereas in numpy it forms a tabular structure."
   ]
  },
  {
   "cell_type": "markdown",
   "id": "d52bbb4b",
   "metadata": {},
   "source": [
    "#### Q4. Explain the distinctions between the ``empty``, ``ones``, and ``zeros`` functions."
   ]
  },
  {
   "cell_type": "markdown",
   "id": "f2703b47",
   "metadata": {},
   "source": [
    "___Ans:___ The distinctions between the ``empty``, ``ones``, and ``zeros`` functions are as follows:\n",
    "\n",
    "\n",
    "- ``Empty function`` : An empty function is a function that does not contain any statement within its body. If you try to write a function definition without any statement in python ,it will return an error. To avoid this, we use pass statement. pass is a special statement in Python that does nothing. It only works as a dummy statement.\n",
    "\n",
    "\n",
    "\n",
    "- ``Ones`` : This function returns a new array of given shape and data type, where the element’s value is 1.\n",
    "\n",
    "\n",
    "\n",
    "- ``Zeros`` : This function returns a new array of given shape and data type, where the element’s value is 0."
   ]
  },
  {
   "cell_type": "markdown",
   "id": "3fb6cf6a",
   "metadata": {},
   "source": [
    "#### Q5. In the fromfunction function, which is used to construct new arrays, what is the role of the callable argument?"
   ]
  },
  {
   "cell_type": "markdown",
   "id": "70ef649e",
   "metadata": {},
   "source": [
    "___Ans:___ Its function is to execute the function over each coordinate and the resulting array. The function is called with N parameters, where N is the rank of shape. Each parameter represents the coordinates of the array varying along a specific axis."
   ]
  },
  {
   "cell_type": "markdown",
   "id": "71c964c1",
   "metadata": {},
   "source": [
    "#### Q6. What happens when a numpy array is combined with a single-value operand (a scalar, such as an int or a floating-point value) through addition, as in the expression ``A + n``?"
   ]
  },
  {
   "cell_type": "markdown",
   "id": "17a139ce",
   "metadata": {},
   "source": [
    "___Ans:___ If a numpy array is combined with a single-value operand (a scalar, such as an int or a float value) through addition, as in the expression ``A + n`` then all the elements inside the array will add that value in it."
   ]
  },
  {
   "cell_type": "markdown",
   "id": "120f9448",
   "metadata": {},
   "source": [
    "#### Q7. Can array-to-scalar operations use combined operation-assign operators (such as ``+=`` or ``*=``)? What is the outcome?"
   ]
  },
  {
   "cell_type": "markdown",
   "id": "df4fef33",
   "metadata": {},
   "source": [
    "___Ans:___ Yes, array-to-scalar operations can use combined operation-assign operators, (such as ``+=`` or ``*=``). It will carry out the provided operations on all elements of array."
   ]
  },
  {
   "cell_type": "markdown",
   "id": "2d4be4df",
   "metadata": {},
   "source": [
    "#### Q8. Does a numpy array contain fixed-length strings? What happens if you allocate a longer string to one of these arrays?"
   ]
  },
  {
   "cell_type": "markdown",
   "id": "baa8de33",
   "metadata": {},
   "source": [
    "___Ans:___ Yes, it is possible that we can include a string of fixed length in numpy array. The dtype of any numpy array containing string values is the maximum length of any string present in the array.Once set, it will only be able to store new string having length not more than the maximum length at the time of the creation. If we try to reassign some another string value having length greater than the maximum length of the existing elements, it simply discards all the values beyond the maximum length accept upto those values which are under the limit."
   ]
  },
  {
   "cell_type": "markdown",
   "id": "ac11ec3a",
   "metadata": {},
   "source": [
    "#### Q9. What happens when you combine two numpy arrays using an operation like addition (``+``) or multiplication (``*``)? What are the conditions for combining two numpy arrays?"
   ]
  },
  {
   "cell_type": "markdown",
   "id": "41a40520",
   "metadata": {},
   "source": [
    "___Ans:___ By combining two numpy arrays using an operation like addition(``+``) or multiplication(``*``), it will simply perform element wise addition and multiplication, i.e., it will add or multiply element to element at their respective position."
   ]
  },
  {
   "cell_type": "markdown",
   "id": "da9786cf",
   "metadata": {},
   "source": [
    "#### Q10. What is the best way to use a Boolean array to mask another array?"
   ]
  },
  {
   "cell_type": "markdown",
   "id": "b3c3d718",
   "metadata": {},
   "source": [
    "___Ans:___ The best way to use a Boolean array to mask another array is by using ``masked_where`` from the numpy package."
   ]
  },
  {
   "cell_type": "markdown",
   "id": "df52466f",
   "metadata": {},
   "source": [
    "#### Q11. What are three different ways to get the standard deviation of a wide collection of data using both standard Python and its packages? Sort the three of them by how quickly they execute."
   ]
  },
  {
   "cell_type": "markdown",
   "id": "768d875c",
   "metadata": {},
   "source": [
    "___Ans:___ The different ways to get the standard deviation of a wide collection of data using both standard Python and its packages are:\n",
    "\n",
    "\n",
    "- ``numpy.std()`` function from numpy module of python\n",
    "\n",
    "\n",
    "\n",
    "- ``math`` module which is a standard module of python \n",
    "\n",
    "\n",
    "\n",
    "- ``statistics.stdev()`` method from statistics library "
   ]
  },
  {
   "cell_type": "markdown",
   "id": "45c14634",
   "metadata": {},
   "source": [
    "#### Q12. What is the dimensionality of a Boolean mask-generated array?"
   ]
  },
  {
   "cell_type": "markdown",
   "id": "2abce337",
   "metadata": {},
   "source": [
    "___Ans:___ The dimensionality of a Boolean mask-generated array will have the same dimensionality as input array."
   ]
  }
 ],
 "metadata": {
  "kernelspec": {
   "display_name": "Python 3 (ipykernel)",
   "language": "python",
   "name": "python3"
  },
  "language_info": {
   "codemirror_mode": {
    "name": "ipython",
    "version": 3
   },
   "file_extension": ".py",
   "mimetype": "text/x-python",
   "name": "python",
   "nbconvert_exporter": "python",
   "pygments_lexer": "ipython3",
   "version": "3.9.7"
  }
 },
 "nbformat": 4,
 "nbformat_minor": 5
}
