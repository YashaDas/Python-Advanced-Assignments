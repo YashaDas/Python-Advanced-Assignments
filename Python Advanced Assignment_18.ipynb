{
 "cells": [
  {
   "cell_type": "markdown",
   "id": "897dc52d",
   "metadata": {},
   "source": [
    "# Python Advanced Assignment_18"
   ]
  },
  {
   "cell_type": "markdown",
   "id": "2c3a08ce",
   "metadata": {},
   "source": [
    "### Q1. Describe the differences between text and binary files in a single paragraph."
   ]
  },
  {
   "cell_type": "markdown",
   "id": "26291a28",
   "metadata": {},
   "source": [
    "##### ANSWER:"
   ]
  },
  {
   "cell_type": "markdown",
   "id": "980ecf40",
   "metadata": {},
   "source": [
    "The differences between __Text Files__ and __Binary Files__ are __:__\n",
    "\n",
    "\n",
    "- __Text files__ are special subset of binary files that are used to store human readable characters as a rich text document or plain text document. Text files also store data in sequential bytes but bits in text file represents characters.\n",
    "\n",
    "\n",
    "\n",
    "- __Binary files__ are those typical files that store data in the form of sequence of bytes grouped into eight bits or sometimes sixteen bits. These bits represent custom data and such files can store multiple types of data (images, audio, text, etc) under a single file."
   ]
  },
  {
   "cell_type": "markdown",
   "id": "6eacea94",
   "metadata": {},
   "source": [
    "### Q2. What are some scenarios where using text files will be the better option? When would you like to use binary files instead of text files?"
   ]
  },
  {
   "cell_type": "markdown",
   "id": "b41cc630",
   "metadata": {},
   "source": [
    "##### ANSWER:"
   ]
  },
  {
   "cell_type": "markdown",
   "id": "0441fca1",
   "metadata": {},
   "source": [
    "Some scenarios where using text files is a better option is when, text files are less prone to get corrupted when any undesired changes may just show up once the files are opened but can be easily removed. Binary files can be used instead of text files for data types like image, audio, etc. "
   ]
  },
  {
   "cell_type": "markdown",
   "id": "113b8461",
   "metadata": {},
   "source": [
    "### Q3. What are some of the issues with using binary operations to read and write a Python integer directly to disc?"
   ]
  },
  {
   "cell_type": "markdown",
   "id": "ad3b15cc",
   "metadata": {},
   "source": [
    "##### ANSWER:"
   ]
  },
  {
   "cell_type": "markdown",
   "id": "c3a70678",
   "metadata": {},
   "source": [
    "Some of the issues with using binary operations to read and write a Python integer directly to disc are __:__\n",
    " \n",
    "\n",
    "- Binary operations deal with raw data.\n",
    "\n",
    "\n",
    "- One needs to identify how many bytes one would read or write. "
   ]
  },
  {
   "cell_type": "markdown",
   "id": "ee03d6b2",
   "metadata": {},
   "source": [
    "### Q4. Describe a benefit of using the with keyword instead of explicitly opening a file."
   ]
  },
  {
   "cell_type": "markdown",
   "id": "7a47d4ec",
   "metadata": {},
   "source": [
    "##### ANSWER:"
   ]
  },
  {
   "cell_type": "markdown",
   "id": "bdc9996c",
   "metadata": {},
   "source": [
    "A benefit of using the __``with``__ keyword is that, if some exceptions occur after opening a file or at the end of a file it automatically does the closing of the file. Thereby not leaving the file in an open mode and there would no need to explicitly close a file.  "
   ]
  },
  {
   "cell_type": "markdown",
   "id": "27ecd727",
   "metadata": {},
   "source": [
    "### Q5. Does Python have the trailing newline while reading a line of text? Does Python append a newline when you write a line of text?"
   ]
  },
  {
   "cell_type": "markdown",
   "id": "eaede642",
   "metadata": {},
   "source": [
    "##### ANSWER:"
   ]
  },
  {
   "cell_type": "markdown",
   "id": "606dc30b",
   "metadata": {},
   "source": [
    "Yes, Python have the trailing newline while reading a line of text. No, Python does not append a newline when we write a line of text it has to be provided in excpicitly."
   ]
  },
  {
   "cell_type": "markdown",
   "id": "54a5b744",
   "metadata": {},
   "source": [
    "### Q6. What file operations enable for random-access operation?"
   ]
  },
  {
   "cell_type": "markdown",
   "id": "9c58feb8",
   "metadata": {},
   "source": [
    "##### ANSWER:"
   ]
  },
  {
   "cell_type": "markdown",
   "id": "a3f6a006",
   "metadata": {},
   "source": [
    "The file operations enable for random-access operation are __:__ \n",
    "\n",
    "\n",
    "- __``seek()``__  \n",
    "\n",
    "\n",
    "- __``tell()``__"
   ]
  },
  {
   "cell_type": "markdown",
   "id": "da9d7619",
   "metadata": {},
   "source": [
    "### Q7. When do you think you'll use the struct package the most?"
   ]
  },
  {
   "cell_type": "markdown",
   "id": "fc342f16",
   "metadata": {},
   "source": [
    "##### ANSWER:"
   ]
  },
  {
   "cell_type": "markdown",
   "id": "4f0160e0",
   "metadata": {},
   "source": [
    "The __``struct``__ package is mostly used while converting a common python types into __``C``__ language types."
   ]
  },
  {
   "cell_type": "markdown",
   "id": "d8d45844",
   "metadata": {},
   "source": [
    "### Q8. When is pickling the best option?"
   ]
  },
  {
   "cell_type": "markdown",
   "id": "2541cd5e",
   "metadata": {},
   "source": [
    "##### ANSWER:"
   ]
  },
  {
   "cell_type": "markdown",
   "id": "c0ea8200",
   "metadata": {},
   "source": [
    "__Pickling__ is the best option for creating a new binary file using python."
   ]
  },
  {
   "cell_type": "markdown",
   "id": "af3014c5",
   "metadata": {},
   "source": [
    "### Q9. When will it be best to use the shelve package?"
   ]
  },
  {
   "cell_type": "markdown",
   "id": "d49e705e",
   "metadata": {},
   "source": [
    "##### ANSWER:"
   ]
  },
  {
   "cell_type": "markdown",
   "id": "fb0e915b",
   "metadata": {},
   "source": [
    "__``Shelve``__ package is used to pickle data but treats the entire file as dictionary."
   ]
  },
  {
   "cell_type": "markdown",
   "id": "699445ab",
   "metadata": {},
   "source": [
    "### Q10. What is a special restriction when using the shelve package, as opposed to using other data dictionaries?"
   ]
  },
  {
   "cell_type": "markdown",
   "id": "a0920410",
   "metadata": {},
   "source": [
    "##### ANSWER:"
   ]
  },
  {
   "cell_type": "markdown",
   "id": "0d98114f",
   "metadata": {},
   "source": [
    "Only string data type can be used as key in this special dictionary object, whereas any picklable Python object can be used as value."
   ]
  }
 ],
 "metadata": {
  "kernelspec": {
   "display_name": "Python 3 (ipykernel)",
   "language": "python",
   "name": "python3"
  },
  "language_info": {
   "codemirror_mode": {
    "name": "ipython",
    "version": 3
   },
   "file_extension": ".py",
   "mimetype": "text/x-python",
   "name": "python",
   "nbconvert_exporter": "python",
   "pygments_lexer": "ipython3",
   "version": "3.9.7"
  }
 },
 "nbformat": 4,
 "nbformat_minor": 5
}
