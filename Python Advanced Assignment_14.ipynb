{
 "cells": [
  {
   "cell_type": "markdown",
   "id": "c65de9b8",
   "metadata": {},
   "source": [
    "# Python Advanced Assignment_14"
   ]
  },
  {
   "cell_type": "markdown",
   "id": "c1ddd15a",
   "metadata": {},
   "source": [
    "### Q1. Is an assignment operator like += only for show? Is it possible that it would lead to faster results at the runtime?"
   ]
  },
  {
   "cell_type": "markdown",
   "id": "14b3b6c3",
   "metadata": {},
   "source": [
    "##### ANSWER:"
   ]
  },
  {
   "cell_type": "markdown",
   "id": "78f2a5b0",
   "metadata": {},
   "source": [
    "No, the assignment operator __``+=``__ is not only for show, it actually leads to faster results at runtime. Let us understand this by taking an example as:\n",
    "\n",
    "__``A=A+1``__ evaluates to finding the outcome of __``A + 1``__. Then storing the value again in the variable __``A``__. This expression makes Python look for memory holder twice. Whereas __``A+=1``__ simply means that value of __``A``__ is incremented by __``1``__. Therefore, the memory address is to be looked for only once. Hence, __``+=``__ leads to faster results at runtime."
   ]
  },
  {
   "cell_type": "markdown",
   "id": "407b316e",
   "metadata": {},
   "source": [
    "### Q2. What is the smallest number of statements you'd have to write in most programming languages to replace the Python expression a, b = a + b, a?"
   ]
  },
  {
   "cell_type": "markdown",
   "id": "2e267013",
   "metadata": {},
   "source": [
    "##### ANSWER:"
   ]
  },
  {
   "cell_type": "markdown",
   "id": "bbced908",
   "metadata": {},
   "source": [
    "Minimum number of statements that one has to write in most programming languages to replace the Python expression __``a,b = a+b,a``__ will be four, two for assigning initial values for variables __``a``__ and __``b``__ , and two for reassignment i.e., __``a=a+b``__ and __``b=a``__."
   ]
  },
  {
   "cell_type": "markdown",
   "id": "5352bfe8",
   "metadata": {},
   "source": [
    "### Q3. In Python, what is the most effective way to set a list of 100 integers to 0?"
   ]
  },
  {
   "cell_type": "markdown",
   "id": "dedd9d6e",
   "metadata": {},
   "source": [
    "##### ANSWER:"
   ]
  },
  {
   "cell_type": "markdown",
   "id": "e595d4af",
   "metadata": {},
   "source": [
    "In Python, the most effective way to set a list of 100 integers to 0 is either by using Repeition Operator(__``*``__) or by using List Comprehension."
   ]
  },
  {
   "cell_type": "code",
   "execution_count": 2,
   "id": "3ca78a11",
   "metadata": {},
   "outputs": [
    {
     "name": "stdout",
     "output_type": "stream",
     "text": [
      "[0, 0, 0, 0, 0, 0, 0, 0, 0, 0, 0, 0, 0, 0, 0, 0, 0, 0, 0, 0, 0, 0, 0, 0, 0, 0, 0, 0, 0, 0, 0, 0, 0, 0, 0, 0, 0, 0, 0, 0, 0, 0, 0, 0, 0, 0, 0, 0, 0, 0, 0, 0, 0, 0, 0, 0, 0, 0, 0, 0, 0, 0, 0, 0, 0, 0, 0, 0, 0, 0, 0, 0, 0, 0, 0, 0, 0, 0, 0, 0, 0, 0, 0, 0, 0, 0, 0, 0, 0, 0, 0, 0, 0, 0, 0, 0, 0, 0, 0, 0]\n"
     ]
    }
   ],
   "source": [
    "# Using Repetition Operator (*)\n",
    "list_zero=[0]*100\n",
    "print(list_zero)"
   ]
  },
  {
   "cell_type": "code",
   "execution_count": 3,
   "id": "727e83a3",
   "metadata": {},
   "outputs": [
    {
     "name": "stdout",
     "output_type": "stream",
     "text": [
      "[0, 0, 0, 0, 0, 0, 0, 0, 0, 0, 0, 0, 0, 0, 0, 0, 0, 0, 0, 0, 0, 0, 0, 0, 0, 0, 0, 0, 0, 0, 0, 0, 0, 0, 0, 0, 0, 0, 0, 0, 0, 0, 0, 0, 0, 0, 0, 0, 0, 0, 0, 0, 0, 0, 0, 0, 0, 0, 0, 0, 0, 0, 0, 0, 0, 0, 0, 0, 0, 0, 0, 0, 0, 0, 0, 0, 0, 0, 0, 0, 0, 0, 0, 0, 0, 0, 0, 0, 0, 0, 0, 0, 0, 0, 0, 0, 0, 0, 0, 0]\n"
     ]
    }
   ],
   "source": [
    "# Using List Comprehension\n",
    "zero_list = [0 for x in range(100)]\n",
    "print(zero_list)"
   ]
  },
  {
   "cell_type": "markdown",
   "id": "c53af486",
   "metadata": {},
   "source": [
    "### Q4. What is the most effective way to initialise a list of 99 integers that repeats the sequence 1, 2, 3? S If necessary, show step-by-step instructions on how to accomplish this."
   ]
  },
  {
   "cell_type": "markdown",
   "id": "abc5acc0",
   "metadata": {},
   "source": [
    "##### ANSWER:"
   ]
  },
  {
   "cell_type": "code",
   "execution_count": 4,
   "id": "6632a65a",
   "metadata": {},
   "outputs": [
    {
     "name": "stdout",
     "output_type": "stream",
     "text": [
      "[1, 2, 3, 1, 2, 3, 1, 2, 3, 1, 2, 3, 1, 2, 3, 1, 2, 3, 1, 2, 3, 1, 2, 3, 1, 2, 3, 1, 2, 3, 1, 2, 3, 1, 2, 3, 1, 2, 3, 1, 2, 3, 1, 2, 3, 1, 2, 3, 1, 2, 3, 1, 2, 3, 1, 2, 3, 1, 2, 3, 1, 2, 3, 1, 2, 3, 1, 2, 3, 1, 2, 3, 1, 2, 3, 1, 2, 3, 1, 2, 3, 1, 2, 3, 1, 2, 3, 1, 2, 3, 1, 2, 3, 1, 2, 3, 1, 2, 3]\n"
     ]
    }
   ],
   "source": [
    "my_list = [1,2,3]*33\n",
    "print(my_list)"
   ]
  },
  {
   "cell_type": "markdown",
   "id": "460082d8",
   "metadata": {},
   "source": [
    "### Q5. If you're using IDLE to run a Python application, explain how to print a multidimensional list as efficiently?"
   ]
  },
  {
   "cell_type": "markdown",
   "id": "27ed8ddd",
   "metadata": {},
   "source": [
    "##### ANSWER:"
   ]
  },
  {
   "cell_type": "code",
   "execution_count": 5,
   "id": "b0096059",
   "metadata": {},
   "outputs": [
    {
     "name": "stdout",
     "output_type": "stream",
     "text": [
      "1 1 2 2 3 3 4 4 5 5 "
     ]
    }
   ],
   "source": [
    "my_list2 = [[1,1],[2,2],[3,3],[4,4],[5,5]] # 2 Dimensional List\n",
    "for x in range(len(my_list2)):\n",
    "    for y in range(len(my_list2[x])):\n",
    "        print(my_list2[x][y],end=\" \")"
   ]
  },
  {
   "cell_type": "markdown",
   "id": "c010a913",
   "metadata": {},
   "source": [
    "### Q6. Is it possible to use list comprehension with a string? If so, how can you go about doing it?"
   ]
  },
  {
   "cell_type": "markdown",
   "id": "52c6e2b2",
   "metadata": {},
   "source": [
    "##### ANSWER:"
   ]
  },
  {
   "cell_type": "markdown",
   "id": "47d8d54d",
   "metadata": {},
   "source": [
    "Yes, it is possible to use list comprehension with a string."
   ]
  },
  {
   "cell_type": "code",
   "execution_count": 11,
   "id": "f00421d1",
   "metadata": {},
   "outputs": [
    {
     "name": "stdout",
     "output_type": "stream",
     "text": [
      "['i', 'N', 'e', 'u', 'r', 'o', 'n', 'F', 'S', 'D', 'S']\n"
     ]
    }
   ],
   "source": [
    "my_list3 = [x for x in 'iNeuronFSDS']\n",
    "print(my_list3)"
   ]
  },
  {
   "cell_type": "markdown",
   "id": "29a57a55",
   "metadata": {},
   "source": [
    "### Q7. From the command line, how do you get support with a user-written Python programme? Is this possible from inside IDLE?"
   ]
  },
  {
   "cell_type": "markdown",
   "id": "5814c673",
   "metadata": {},
   "source": [
    "##### ANSWER:"
   ]
  },
  {
   "cell_type": "markdown",
   "id": "64d48f9f",
   "metadata": {},
   "source": [
    "__Get support with a user-written Python Programme:__ Start a command prompt (Windows) or terminal window (Linux/Mac). If the current working directory is the same as the location in which you saved the file, you can simply specify the filename as a command-line argument to the Python interpreter.\n",
    "\n",
    "__Get support with a User-written Python Program from IDLE:__ You can also create script files and run them in IDLE. From the Shell window menu, __``select File → New File``__. That should open an additional editing window. Type in the code to be executed. From the menu in that window, __``select File → Save or File → Save As…``__ and save the file to disk. Then __``select Run → Run Module``__. The output should appear back in the interpreter."
   ]
  },
  {
   "cell_type": "markdown",
   "id": "4f61ad2f",
   "metadata": {},
   "source": [
    "### Q8. Functions are said to be “first-class objects” in Python but not in most other languages, such as C++ or Java. What can you do in Python with a function (callable object) that you can't do in C or C++?"
   ]
  },
  {
   "cell_type": "markdown",
   "id": "a58a8b22",
   "metadata": {},
   "source": [
    "##### ANSWER:"
   ]
  },
  {
   "cell_type": "markdown",
   "id": "477399ab",
   "metadata": {},
   "source": [
    "The following are some of the tasks which can be performed with functions in Python that you can't do in C and C++ are__:__\n",
    "\n",
    "\n",
    "- A function is an instance of the Object type.\n",
    "\n",
    "\n",
    "- You can store the function in a variable.\n",
    "\n",
    "\n",
    "- You can pass the function as a parameter to another function.\n",
    "\n",
    "\n",
    "- You can return the function from a function.\n",
    "\n",
    "\n",
    "- You can store them in data structures such as hash tables, lists, etc."
   ]
  },
  {
   "cell_type": "markdown",
   "id": "72803ae6",
   "metadata": {},
   "source": [
    "### Q9. How do you distinguish between a wrapper, a wrapped feature, and a decorator?"
   ]
  },
  {
   "cell_type": "markdown",
   "id": "b78221d0",
   "metadata": {},
   "source": [
    "##### ANSWER:"
   ]
  },
  {
   "cell_type": "markdown",
   "id": "4d4afed1",
   "metadata": {},
   "source": [
    "___Wrappers___ are the functionality available in Python to wrap a function with another function to extend its behavior. The reason to use wrappers in our code lies in the fact that we can modify a ___wrapped function___ without actually changing it. They are also known as ___decorators___."
   ]
  },
  {
   "cell_type": "markdown",
   "id": "c5b88967",
   "metadata": {},
   "source": [
    "### Q10. If a function is a generator function, what does it return?"
   ]
  },
  {
   "cell_type": "markdown",
   "id": "987c8790",
   "metadata": {},
   "source": [
    "##### ANSWER:"
   ]
  },
  {
   "cell_type": "markdown",
   "id": "f4f8bdde",
   "metadata": {},
   "source": [
    "Generator functions are a special kind of function that return a __lazy iterator__. These are objects that you can loop over like a list. However, unlike lists, lazy iterators do not store their contents in memory."
   ]
  },
  {
   "cell_type": "markdown",
   "id": "3b6aaa52",
   "metadata": {},
   "source": [
    "### Q11. What is the one improvement that must be made to a function in order for it to become a generator function in the Python language?"
   ]
  },
  {
   "cell_type": "markdown",
   "id": "d25da447",
   "metadata": {},
   "source": [
    "##### ANSWER:"
   ]
  },
  {
   "cell_type": "markdown",
   "id": "b6849391",
   "metadata": {},
   "source": [
    " The one improvement that must be made to a function in order for it to become a generator function in the Python language is to write a generator function with a __``yield``__ keyword to return values instead of __``return``__ keyword."
   ]
  },
  {
   "cell_type": "markdown",
   "id": "1c138e52",
   "metadata": {},
   "source": [
    "### Q12. Identify at least one benefit of generators."
   ]
  },
  {
   "cell_type": "markdown",
   "id": "613cd249",
   "metadata": {},
   "source": [
    "##### ANSWER:"
   ]
  },
  {
   "cell_type": "markdown",
   "id": "83bf14e6",
   "metadata": {},
   "source": [
    "One of the benefits of generators is that by using the __``return``__ keyword a specified value is sent back to its caller whereas by using the __``yield``__ keyword a sequence of values are produced. We should use generator when we want to iterate over a sequence, but don’t want to store the entire sequence in memory."
   ]
  }
 ],
 "metadata": {
  "kernelspec": {
   "display_name": "Python 3 (ipykernel)",
   "language": "python",
   "name": "python3"
  },
  "language_info": {
   "codemirror_mode": {
    "name": "ipython",
    "version": 3
   },
   "file_extension": ".py",
   "mimetype": "text/x-python",
   "name": "python",
   "nbconvert_exporter": "python",
   "pygments_lexer": "ipython3",
   "version": "3.9.7"
  }
 },
 "nbformat": 4,
 "nbformat_minor": 5
}
