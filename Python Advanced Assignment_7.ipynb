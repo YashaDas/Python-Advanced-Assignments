{
 "cells": [
  {
   "cell_type": "markdown",
   "id": "9529c147",
   "metadata": {},
   "source": [
    "# Python Advanced Assignment_7"
   ]
  },
  {
   "cell_type": "markdown",
   "id": "3b12e52e",
   "metadata": {},
   "source": [
    "### Q1. What is the purpose of the try statement?"
   ]
  },
  {
   "cell_type": "markdown",
   "id": "1ecd158d",
   "metadata": {},
   "source": [
    "##### ANSWER:"
   ]
  },
  {
   "cell_type": "markdown",
   "id": "c3b3ade4",
   "metadata": {},
   "source": [
    "The purpose of the ``try`` statement is that it let's you test a block of code for errors.\n",
    "\n",
    "Both ``try`` and ``except`` statements are used to handle these errors within our code in Python. The ``try`` block is used to check some code for errors i.e the code inside the try block will execute when there is no error in the program. Whereas the code inside the ``except`` block will execute whenever the program encounters some error in the preceding try block.\n",
    "\n",
    "In conclusion, the critical operation which can raise an exception is placed inside the ``try`` statement. The code that handles the exceptions is written in the ``except`` statement."
   ]
  },
  {
   "cell_type": "markdown",
   "id": "af3ff9f3",
   "metadata": {},
   "source": [
    "##### Syntax:"
   ]
  },
  {
   "cell_type": "code",
   "execution_count": null,
   "id": "aea3d33b",
   "metadata": {},
   "outputs": [],
   "source": [
    "try:\n",
    "    # Some Code\n",
    "except:\n",
    "    # Executed if error in the\n",
    "    # try block"
   ]
  },
  {
   "cell_type": "markdown",
   "id": "49df5044",
   "metadata": {},
   "source": [
    "##### For Example:"
   ]
  },
  {
   "cell_type": "code",
   "execution_count": 1,
   "id": "a8d4be30",
   "metadata": {},
   "outputs": [
    {
     "name": "stdout",
     "output_type": "stream",
     "text": [
      "Division By Zero Is Not Possible.\n"
     ]
    }
   ],
   "source": [
    "try:\n",
    "    print(10/0)\n",
    "except ZeroDivisionError:\n",
    "    print(\"Division By Zero Is Not Possible.\")"
   ]
  },
  {
   "cell_type": "markdown",
   "id": "ea795b44",
   "metadata": {},
   "source": [
    "### Q2. What are the two most popular try statement variations?"
   ]
  },
  {
   "cell_type": "markdown",
   "id": "ae9076b0",
   "metadata": {},
   "source": [
    "##### ANSWER:"
   ]
  },
  {
   "cell_type": "markdown",
   "id": "7b18f8fd",
   "metadata": {},
   "source": [
    "The following are two most popular ``try`` statement variations:\n",
    "\n",
    "- ``try``, ``except`` __:__ Try and Except statement is used to handle these errors within our code in Python. The try block is used to check some code for errors i.e the code inside the try block will execute when there is no error in the program. Whereas the code inside the except block will execute whenever the program encounters some error in the preceding try block."
   ]
  },
  {
   "cell_type": "markdown",
   "id": "b0b5b4be",
   "metadata": {},
   "source": [
    "##### Syntax for ``try``, ``except``"
   ]
  },
  {
   "cell_type": "code",
   "execution_count": null,
   "id": "434d4ce7",
   "metadata": {},
   "outputs": [],
   "source": [
    "try:\n",
    "    # Some Code\n",
    "except:\n",
    "    # Executed if error in the\n",
    "    # try block"
   ]
  },
  {
   "cell_type": "markdown",
   "id": "ba8458f7",
   "metadata": {},
   "source": [
    "- ``try``, ``except``, ``else`` __:__ In python, you can also use the else clause on the try-except block which must be present after all the except clauses. The code enters the else block only if the try clause does not raise an exception."
   ]
  },
  {
   "cell_type": "markdown",
   "id": "9a4d2df4",
   "metadata": {},
   "source": [
    "##### Syntax for ``try``, ``except``, ``else``"
   ]
  },
  {
   "cell_type": "code",
   "execution_count": null,
   "id": "1b8207bf",
   "metadata": {},
   "outputs": [],
   "source": [
    "try:\n",
    "    # Some Code\n",
    "except:\n",
    "    # Executed if error in the\n",
    "    # try block\n",
    "else:\n",
    "    # execute if no exception"
   ]
  },
  {
   "cell_type": "markdown",
   "id": "d7cd37ca",
   "metadata": {},
   "source": [
    "### Q3. What is the purpose of the raise statement?"
   ]
  },
  {
   "cell_type": "markdown",
   "id": "65f60717",
   "metadata": {},
   "source": [
    "##### ANSWER:"
   ]
  },
  {
   "cell_type": "markdown",
   "id": "63d04009",
   "metadata": {},
   "source": [
    "The purpose of the ``raise`` statement is to raise exceptions or errors. The ``raise`` keyword raises an error and stops the control flow of the program. It is used to bring up the current exception in an exception handler so that it can be handled further up the call stack."
   ]
  },
  {
   "cell_type": "markdown",
   "id": "53470547",
   "metadata": {},
   "source": [
    "##### Syntax:"
   ]
  },
  {
   "cell_type": "code",
   "execution_count": null,
   "id": "a3d7e804",
   "metadata": {},
   "outputs": [],
   "source": [
    "raise  {name_of_ the_ exception_class}"
   ]
  },
  {
   "cell_type": "code",
   "execution_count": null,
   "id": "f6a54d74",
   "metadata": {},
   "outputs": [],
   "source": [
    "# The basic way to raise an error is :\n",
    "\n",
    "raise Exception(“user text”)"
   ]
  },
  {
   "cell_type": "markdown",
   "id": "ec58c614",
   "metadata": {},
   "source": [
    "##### For Example:"
   ]
  },
  {
   "cell_type": "code",
   "execution_count": 2,
   "id": "b85edf32",
   "metadata": {},
   "outputs": [
    {
     "ename": "Exception",
     "evalue": "The number shouldn't be an odd integer",
     "output_type": "error",
     "traceback": [
      "\u001b[1;31m---------------------------------------------------------------------------\u001b[0m",
      "\u001b[1;31mException\u001b[0m                                 Traceback (most recent call last)",
      "\u001b[1;32mC:\\Users\\COMPUT~1\\AppData\\Local\\Temp/ipykernel_14184/3076848925.py\u001b[0m in \u001b[0;36m<module>\u001b[1;34m\u001b[0m\n\u001b[0;32m      2\u001b[0m \u001b[1;33m\u001b[0m\u001b[0m\n\u001b[0;32m      3\u001b[0m \u001b[1;32mif\u001b[0m \u001b[0ma\u001b[0m \u001b[1;33m%\u001b[0m \u001b[1;36m2\u001b[0m \u001b[1;33m!=\u001b[0m \u001b[1;36m0\u001b[0m\u001b[1;33m:\u001b[0m\u001b[1;33m\u001b[0m\u001b[1;33m\u001b[0m\u001b[0m\n\u001b[1;32m----> 4\u001b[1;33m     \u001b[1;32mraise\u001b[0m \u001b[0mException\u001b[0m\u001b[1;33m(\u001b[0m\u001b[1;34m\"The number shouldn't be an odd integer\"\u001b[0m\u001b[1;33m)\u001b[0m\u001b[1;33m\u001b[0m\u001b[1;33m\u001b[0m\u001b[0m\n\u001b[0m",
      "\u001b[1;31mException\u001b[0m: The number shouldn't be an odd integer"
     ]
    }
   ],
   "source": [
    "a = 5\n",
    "  \n",
    "if a % 2 != 0:\n",
    "    raise Exception(\"The number shouldn't be an odd integer\")"
   ]
  },
  {
   "cell_type": "markdown",
   "id": "dc536de2",
   "metadata": {},
   "source": [
    "### Q4. What does the assert statement do, and what other statement is it like?"
   ]
  },
  {
   "cell_type": "markdown",
   "id": "4f11c1d1",
   "metadata": {},
   "source": [
    "##### ANSWER:"
   ]
  },
  {
   "cell_type": "markdown",
   "id": "082ec9e7",
   "metadata": {},
   "source": [
    "The ``assert`` keyword is used when debugging code.\n",
    "\n",
    "This statement takes as input a boolean condition, which when returns true doesn’t do anything and continues the normal flow of execution, but if it is computed to be false, then it raises an AssertionError along with the optional message provided. "
   ]
  },
  {
   "cell_type": "markdown",
   "id": "0536a23c",
   "metadata": {},
   "source": [
    "##### Syntax:"
   ]
  },
  {
   "cell_type": "code",
   "execution_count": null,
   "id": "7bc73b22",
   "metadata": {},
   "outputs": [],
   "source": [
    "assert condition, error_message(optional) "
   ]
  },
  {
   "cell_type": "markdown",
   "id": "ff6c80f4",
   "metadata": {},
   "source": [
    "###### For Example:"
   ]
  },
  {
   "cell_type": "code",
   "execution_count": 4,
   "id": "1703234d",
   "metadata": {
    "scrolled": true
   },
   "outputs": [
    {
     "ename": "AssertionError",
     "evalue": "x should be 'hello'",
     "output_type": "error",
     "traceback": [
      "\u001b[1;31m---------------------------------------------------------------------------\u001b[0m",
      "\u001b[1;31mAssertionError\u001b[0m                            Traceback (most recent call last)",
      "\u001b[1;32mC:\\Users\\COMPUT~1\\AppData\\Local\\Temp/ipykernel_14184/3824654699.py\u001b[0m in \u001b[0;36m<module>\u001b[1;34m\u001b[0m\n\u001b[0;32m      2\u001b[0m \u001b[1;33m\u001b[0m\u001b[0m\n\u001b[0;32m      3\u001b[0m \u001b[1;31m#if condition returns False, AssertionError is raised:\u001b[0m\u001b[1;33m\u001b[0m\u001b[1;33m\u001b[0m\u001b[0m\n\u001b[1;32m----> 4\u001b[1;33m \u001b[1;32massert\u001b[0m \u001b[0mx\u001b[0m \u001b[1;33m==\u001b[0m \u001b[1;34m\"goodbye\"\u001b[0m\u001b[1;33m,\u001b[0m \u001b[1;34m\"x should be 'hello'\"\u001b[0m\u001b[1;33m\u001b[0m\u001b[1;33m\u001b[0m\u001b[0m\n\u001b[0m",
      "\u001b[1;31mAssertionError\u001b[0m: x should be 'hello'"
     ]
    }
   ],
   "source": [
    "x = \"hello\"\n",
    "\n",
    "#if condition returns False, AssertionError is raised:\n",
    "assert x == \"goodbye\", \"x should be 'hello'\""
   ]
  },
  {
   "cell_type": "markdown",
   "id": "27b6dc3c",
   "metadata": {},
   "source": [
    "### Q5. What is the purpose of the with/as argument, and what other statement is it like?"
   ]
  },
  {
   "cell_type": "markdown",
   "id": "98012221",
   "metadata": {},
   "source": [
    "##### ANSWER:"
   ]
  },
  {
   "cell_type": "markdown",
   "id": "7e092897",
   "metadata": {},
   "source": [
    "The purpose of the ``with/as`` statement in Python is that it is used in exception handling to make the code cleaner and much more readable. It simplifies the management of common resources like file streams. There is no need to call file.close() when using ``with`` statement. The statement itself ensures proper acquisition and release of resources.\n",
    "\n",
    "The ``with`` statement will automatically close the file after the nested block of code. \n",
    "\n",
    "The advantage of using a ``with`` statement is that it is guaranteed to close the file no matter how the nested block exits. If an exception occurs before the end of the block, it will close the file before the exception is caught by an outer exception handler. If the nested block were to contain a ``return`` statement, or a ``continue`` or ``break`` statement, the ``with`` statement would automatically close the file in those cases, too."
   ]
  },
  {
   "cell_type": "markdown",
   "id": "22654a51",
   "metadata": {},
   "source": [
    "##### For Example:"
   ]
  },
  {
   "cell_type": "code",
   "execution_count": null,
   "id": "955e21e0",
   "metadata": {},
   "outputs": [],
   "source": [
    "# using with/as statement\n",
    "\n",
    "with open('file_path', 'w') as file:\n",
    "    file.write('hello world !')"
   ]
  }
 ],
 "metadata": {
  "kernelspec": {
   "display_name": "Python 3 (ipykernel)",
   "language": "python",
   "name": "python3"
  },
  "language_info": {
   "codemirror_mode": {
    "name": "ipython",
    "version": 3
   },
   "file_extension": ".py",
   "mimetype": "text/x-python",
   "name": "python",
   "nbconvert_exporter": "python",
   "pygments_lexer": "ipython3",
   "version": "3.9.7"
  }
 },
 "nbformat": 4,
 "nbformat_minor": 5
}
