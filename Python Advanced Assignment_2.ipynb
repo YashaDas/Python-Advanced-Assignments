{
 "cells": [
  {
   "cell_type": "markdown",
   "id": "e413dfd7",
   "metadata": {},
   "source": [
    "# Python Advanced Assignment_2"
   ]
  },
  {
   "cell_type": "markdown",
   "id": "994729e5",
   "metadata": {},
   "source": [
    "### Q1. What is the relationship between classes and modules?"
   ]
  },
  {
   "cell_type": "markdown",
   "id": "ee2fbe60",
   "metadata": {},
   "source": [
    "##### ANSWER:"
   ]
  },
  {
   "cell_type": "markdown",
   "id": "f89a37b0",
   "metadata": {},
   "source": [
    "The relationship between classes and modules is as follows:-\n",
    "\n",
    "A class is used to define a blueprint for a given object, whereas a module is used to reuse a given piece of code inside another program.\n",
    "\n",
    "A class can have its own instance, but a module cannot be instantiated. We use the ‘class’ keyword to define a class, whereas to use modules, we use the ‘import’ keyword. \n",
    "\n",
    "We can inherit a particular class and modify it using inheritance. But while using modules, it is simply a code containing variables, functions, and classes.\n",
    "\n",
    "Modules are files present inside a package, whereas a class is used to encapsulate data and functions together inside the same unit."
   ]
  },
  {
   "cell_type": "markdown",
   "id": "2ddb83fd",
   "metadata": {},
   "source": [
    "### Q2. How do you make instances and classes?"
   ]
  },
  {
   "cell_type": "markdown",
   "id": "9c379cef",
   "metadata": {},
   "source": [
    "##### ANSWER:"
   ]
  },
  {
   "cell_type": "markdown",
   "id": "ec15ae19",
   "metadata": {},
   "source": [
    "##### Creating instances -"
   ]
  },
  {
   "cell_type": "markdown",
   "id": "0223e0d4",
   "metadata": {},
   "source": [
    "To create instances of a class, you call the class using class name and pass in whatever arguments its __ init __ method accepts."
   ]
  },
  {
   "cell_type": "markdown",
   "id": "38806dc9",
   "metadata": {},
   "source": [
    "##### For Example:"
   ]
  },
  {
   "cell_type": "code",
   "execution_count": null,
   "id": "51b5427a",
   "metadata": {},
   "outputs": [],
   "source": [
    "# This would create first object of Employee class\n",
    "\n",
    "emp1 = Employee(\"Zara\", 2000) "
   ]
  },
  {
   "cell_type": "markdown",
   "id": "05dc708e",
   "metadata": {},
   "source": [
    "Here, emp1 is the instance of the Employee class with attributes 'Zara' and '2000'"
   ]
  },
  {
   "cell_type": "markdown",
   "id": "f4a0baef",
   "metadata": {},
   "source": [
    "##### Creating Classes -"
   ]
  },
  {
   "cell_type": "markdown",
   "id": "686d33d4",
   "metadata": {},
   "source": [
    "To create classes, the keyword 'class' is used immediately followed by the name of the class."
   ]
  },
  {
   "cell_type": "markdown",
   "id": "dd12feb1",
   "metadata": {},
   "source": [
    "##### For Example:"
   ]
  },
  {
   "cell_type": "code",
   "execution_count": null,
   "id": "04af7faa",
   "metadata": {},
   "outputs": [],
   "source": [
    "class Employee:\n",
    "    def __init__(self, name ,salary):\n",
    "        self.name = name\n",
    "        self.salary = salary"
   ]
  },
  {
   "cell_type": "markdown",
   "id": "8a30621f",
   "metadata": {},
   "source": [
    "### Q3. Where and how should be class attributes created?"
   ]
  },
  {
   "cell_type": "markdown",
   "id": "e1112575",
   "metadata": {},
   "source": [
    "##### ANSWER:"
   ]
  },
  {
   "cell_type": "markdown",
   "id": "8b2412fe",
   "metadata": {},
   "source": [
    "Class Attributes are unique to each class. Each instance of the class will have this attribute. It’s sometimes used to specify a defualt value that all objects should have after they’ve been instantiated. \n",
    "\n",
    "Here, our class attribute is species."
   ]
  },
  {
   "cell_type": "markdown",
   "id": "31325790",
   "metadata": {},
   "source": [
    "##### For example:"
   ]
  },
  {
   "cell_type": "code",
   "execution_count": null,
   "id": "3cb0a44b",
   "metadata": {},
   "outputs": [],
   "source": [
    "class Dog:\n",
    "\n",
    "    species = 'mammal'\n",
    "\n",
    "    def __init__(self, name, age):\n",
    "        self.name = name\n",
    "        self.age = age"
   ]
  },
  {
   "cell_type": "markdown",
   "id": "b848b57c",
   "metadata": {},
   "source": [
    "### Q4. Where and how are instance attributes created?"
   ]
  },
  {
   "cell_type": "markdown",
   "id": "919e8a4e",
   "metadata": {},
   "source": [
    "##### ANSWER:"
   ]
  },
  {
   "cell_type": "markdown",
   "id": "f3451d9f",
   "metadata": {},
   "source": [
    "Instances attributes are passed to the class when an object of the class is created.each object maintains its own copy of instance attributes at object level. Usually instance attributes are defined within the __ init __ method of class.\n",
    "\n",
    "Here, any Dog object we create will be able to store its name and age. We can change either attribute of either dog, without affecting any other dog objects we’ve created."
   ]
  },
  {
   "cell_type": "markdown",
   "id": "89e747ce",
   "metadata": {},
   "source": [
    "##### For Example:"
   ]
  },
  {
   "cell_type": "code",
   "execution_count": null,
   "id": "d1b2aa29",
   "metadata": {},
   "outputs": [],
   "source": [
    "class Dog:\n",
    "\n",
    "    def __init__(self, name, age):\n",
    "        self.name = name\n",
    "        self.age = age"
   ]
  },
  {
   "cell_type": "markdown",
   "id": "a6240b00",
   "metadata": {},
   "source": [
    "This __ init __ is called the initializer. It is automatically called when we instantiate the class. It’s job is to make sure the class has any attributes it needs. It’s sometimes also used to make sure that the object is in a valid state when it’s instantiated, like making sure the user didn’t enter a negative age for the dog.\n",
    "\n",
    "We have to include the self parameter so that our initializer has a reference to the new object being instantiated."
   ]
  },
  {
   "cell_type": "markdown",
   "id": "19ec73d8",
   "metadata": {},
   "source": [
    "### Q5. What does the term \"self\" in a Python class mean?"
   ]
  },
  {
   "cell_type": "markdown",
   "id": "bcfa7326",
   "metadata": {},
   "source": [
    "##### ANSWER:"
   ]
  },
  {
   "cell_type": "markdown",
   "id": "dbce607c",
   "metadata": {},
   "source": [
    "The self parameter is a reference to the current instance of the class, and is used to access variables that belongs to the class. It does not have to be named self , you can call it whatever you like, but it has to be the first parameter of any function in the class:"
   ]
  },
  {
   "cell_type": "markdown",
   "id": "74675d03",
   "metadata": {},
   "source": [
    "##### For Example:"
   ]
  },
  {
   "cell_type": "code",
   "execution_count": 20,
   "id": "469857fb",
   "metadata": {},
   "outputs": [
    {
     "name": "stdout",
     "output_type": "stream",
     "text": [
      "Hello my name is Annie\n",
      "I am  36 years old\n"
     ]
    }
   ],
   "source": [
    "class Person:\n",
    "    def __init__(self, name, age):\n",
    "        self.name = name\n",
    "        self.age = age\n",
    "\n",
    "    def myfunc(abc):\n",
    "        print(\"Hello my name is \" + abc.name)\n",
    "    def myfunc1(xyz):    \n",
    "        print(\"I am \", xyz.age, \"years old\")\n",
    "\n",
    "p1 = Person(\"Annie\", 36)\n",
    "p1.myfunc()\n",
    "p1.myfunc1()"
   ]
  },
  {
   "cell_type": "markdown",
   "id": "2bc06e39",
   "metadata": {},
   "source": [
    "### Q6. How does a Python class handle operator overloading?"
   ]
  },
  {
   "cell_type": "markdown",
   "id": "35d3bbd1",
   "metadata": {},
   "source": [
    "##### ANSWER:"
   ]
  },
  {
   "cell_type": "markdown",
   "id": "bc789c2c",
   "metadata": {},
   "source": [
    "Python Classes handle operator overloading by using special methods called Magic methods. these special methods usually begin and end with __ (double underscore).\n",
    "\n",
    "\n",
    "Magic methods for basic arithmetic operators are:\n",
    "\n",
    "\n",
    "-  __ add __()\n",
    "\n",
    "\n",
    "-   __ sub __()\n",
    "\n",
    "\n",
    "-   __ mul __()\n",
    " \n",
    " \n",
    "-  __ div __()"
   ]
  },
  {
   "cell_type": "markdown",
   "id": "c83635a5",
   "metadata": {},
   "source": [
    "### Q7. When do you consider allowing operator overloading of your classes?"
   ]
  },
  {
   "cell_type": "markdown",
   "id": "c1e8a6df",
   "metadata": {},
   "source": [
    "##### ANSWER:"
   ]
  },
  {
   "cell_type": "markdown",
   "id": "a727bbe2",
   "metadata": {},
   "source": [
    "When we want to have different meaning for the same operator accroding to the context we use operator overloading."
   ]
  },
  {
   "cell_type": "markdown",
   "id": "a643d9a0",
   "metadata": {},
   "source": [
    "### Q8. What is the most popular form of operator overloading?"
   ]
  },
  {
   "cell_type": "markdown",
   "id": "8118d956",
   "metadata": {},
   "source": [
    "##### ANSWER:"
   ]
  },
  {
   "cell_type": "markdown",
   "id": "1f948f4b",
   "metadata": {},
   "source": [
    "The operator overloading in Python means provide extended meaning beyond their predefined operational meaning. Such as, we use the \"+\" operator for adding two integers as well as joining two strings or merging two lists. We can achieve this as the \"+\" operator is overloaded by the \"int\" class and \"str\" class. The user can notice that the same inbuilt operator or function is showing different behaviour for objects of different classes. This process is known as operator overloading.\n",
    "\n",
    "\n",
    "Suppose the user has two objects which are the physical representation of a user-defined data type class. The user has to add two objects using the \"+\" operator, and it gives an error. This is because the compiler does not know how to add two objects. So, the user has to define the function for using the operator, and that process is known as \"operator overloading\". The user can overload all the existing operators but they cannot create any new operator. Python provides some special functions, or we can say magic functions for performing operator overloading, which is automatically invoked when it is associated with that operator. Such as, when the user uses the \"+\" operator, the magic function __ add __ will automatically invoke in the command where the \"+\" operator will be defined."
   ]
  },
  {
   "cell_type": "markdown",
   "id": "e8ad0f9a",
   "metadata": {},
   "source": [
    "##### For Example:"
   ]
  },
  {
   "cell_type": "code",
   "execution_count": 6,
   "id": "69e47ba3",
   "metadata": {},
   "outputs": [
    {
     "name": "stdout",
     "output_type": "stream",
     "text": [
      "Please enter the value:  27\n",
      "Please enter the value:  23\n",
      "Sum :  50\n",
      "Please enter the value:  i\n",
      "Please enter the value:  neuron\n",
      "String Concatenation :  ineuron\n"
     ]
    }
   ],
   "source": [
    "class example:  \n",
    "    def __init__(self, X):  \n",
    "        self.X = X  \n",
    "   \n",
    "    # adding two objects  \n",
    "    def __add__(self, U):  \n",
    "        return self.X + U.X  \n",
    "    \n",
    "object_1 = example(int(input(\"Please enter the value:  \"))) \n",
    "object_2 = example(int(input(\"Please enter the value:  \")))  \n",
    "\n",
    "print (\"Sum : \", object_1 + object_2)\n",
    "\n",
    "object_3 = example(str(input(\"Please enter the value:  \"))) \n",
    "object_4 = example(str(input(\"Please enter the value:  \"))) \n",
    "\n",
    "print (\"String Concatenation : \", object_3 + object_4) "
   ]
  },
  {
   "cell_type": "markdown",
   "id": "741200e3",
   "metadata": {},
   "source": [
    "### Q9. What are the two most important concepts to grasp in order to comprehend Python OOP code?"
   ]
  },
  {
   "cell_type": "markdown",
   "id": "574c3ce2",
   "metadata": {},
   "source": [
    "##### ANSWER:"
   ]
  },
  {
   "cell_type": "markdown",
   "id": "05cedd95",
   "metadata": {},
   "source": [
    "The two most important concepts to grasp in order to comprehend Python OOP code are:\n",
    "\n",
    "\n",
    "- Classes \n",
    "\n",
    "- Objects\n",
    "\n",
    "\n",
    "Along with the above mentioned concepts, the following concepts are also important to grasp in Python OOP:\n",
    "\n",
    "\n",
    "- Polymorphism\n",
    "\n",
    "\n",
    "- Encapsulation\n",
    "\n",
    "\n",
    "- Inheritance\n",
    "\n",
    "\n",
    "- Data Abstraction"
   ]
  }
 ],
 "metadata": {
  "kernelspec": {
   "display_name": "Python 3 (ipykernel)",
   "language": "python",
   "name": "python3"
  },
  "language_info": {
   "codemirror_mode": {
    "name": "ipython",
    "version": 3
   },
   "file_extension": ".py",
   "mimetype": "text/x-python",
   "name": "python",
   "nbconvert_exporter": "python",
   "pygments_lexer": "ipython3",
   "version": "3.9.7"
  }
 },
 "nbformat": 4,
 "nbformat_minor": 5
}
