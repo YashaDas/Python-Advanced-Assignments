{
 "cells": [
  {
   "cell_type": "markdown",
   "id": "bbc73900",
   "metadata": {},
   "source": [
    "# Python Advanced Assignment_10"
   ]
  },
  {
   "cell_type": "markdown",
   "id": "8727b90e",
   "metadata": {},
   "source": [
    "### Q1. What is the difference between __ getattr __ and __ getattribute __?"
   ]
  },
  {
   "cell_type": "markdown",
   "id": "0c2c9940",
   "metadata": {},
   "source": [
    "##### ANSWER:"
   ]
  },
  {
   "cell_type": "markdown",
   "id": "65eba726",
   "metadata": {},
   "source": [
    "The follwing is the difference between ``__getattr`` and ``__getattribute__`` __:__\n",
    "\n",
    "\n",
    "- ``__getattr__`` __:__  ``__getattr__`` gets called if there is no attribute in the instance. It’s invoked “last”, if Python can’t find that attribute (lowest priority).\n",
    "\n",
    "\n",
    "- ``__getattribute__`` __:__ ``__getattribute__`` gets called all the times, whether there is the attribute or not. It’s invoked “first”(highest priority) — it actually “intercepts” every lookup. So, even if there is the attribute in the instance, Python calls ``__getattribute__`` first, with the attribute as an argument."
   ]
  },
  {
   "cell_type": "markdown",
   "id": "e9141874",
   "metadata": {},
   "source": [
    "### Q2. What is the difference between properties and descriptors?"
   ]
  },
  {
   "cell_type": "markdown",
   "id": "a450264f",
   "metadata": {},
   "source": [
    "##### ANSWER:"
   ]
  },
  {
   "cell_type": "markdown",
   "id": "3b7b01bc",
   "metadata": {},
   "source": [
    "The following is the differences between __Properties__ and __Descriptors__ __:__\n",
    "\n",
    "\n",
    "- __Properties :__ With __Properties__ we can bind getter, setter and delete functions together with an attribute name, using the built-in property function or ``@property`` decorator. When we do this, each reference to an attribute looks like simple, direct access, but involes the appropriate function of the object.\n",
    "\n",
    "\n",
    "- __Descriptor :__ With __Descriptor__ we can bind getter, setter and delete functions into a seperate class. we then assign an object of this class to the attribute name in our main class. When we do this, each reference to an attribute looks like simple, direct access but invokes an appropriate function of descriptor object."
   ]
  },
  {
   "cell_type": "markdown",
   "id": "4e03fc4b",
   "metadata": {},
   "source": [
    "### Q3. What are the key differences in functionality between __ getattr __ and __ getattribute __, as well as properties and descriptors?"
   ]
  },
  {
   "cell_type": "markdown",
   "id": "edd22880",
   "metadata": {},
   "source": [
    "##### ANSWER:"
   ]
  },
  {
   "cell_type": "markdown",
   "id": "1b8dd402",
   "metadata": {},
   "source": [
    "The Key Differences between ``__getattr__``, ``__getattribute__``, __Properties__ and __Descriptors__ are __:__\n",
    "\n",
    "\n",
    "\n",
    "- ``__getattr__`` __:__ Python will call this method whenever you request an attribute that hasn't already been defined.\n",
    "\n",
    "\n",
    "- ``__getattribute__`` __:__ This method will invoked before looking at the actual attributes on the object. Means,if we have ``__getattribute__`` method in our class, python invokes this method for every attribute regardless whether it exists or not.\n",
    "\n",
    "\n",
    "\n",
    "\n",
    "\n",
    "- __Properties :__ With Properties we can bind getter, setter and delete functions together with an attribute name, using the built-in property function or ``@property`` decorator. When we do this, each reference to an attribute looks like simple, direct access, but involes the appropriate function of the object.\n",
    "\n",
    "\n",
    "- __Descriptor :__ With Descriptor we can bind getter, setter and delete functions into a seperate class. we then assign an object of this class to the attribute name in our main class. When we do this, each reference to an attribute looks like simple, direct access but invokes an appropriate function of descriptor object."
   ]
  }
 ],
 "metadata": {
  "kernelspec": {
   "display_name": "Python 3 (ipykernel)",
   "language": "python",
   "name": "python3"
  },
  "language_info": {
   "codemirror_mode": {
    "name": "ipython",
    "version": 3
   },
   "file_extension": ".py",
   "mimetype": "text/x-python",
   "name": "python",
   "nbconvert_exporter": "python",
   "pygments_lexer": "ipython3",
   "version": "3.9.7"
  }
 },
 "nbformat": 4,
 "nbformat_minor": 5
}
