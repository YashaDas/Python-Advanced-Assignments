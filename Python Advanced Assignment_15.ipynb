{
 "cells": [
  {
   "cell_type": "markdown",
   "id": "4b8bcfaa",
   "metadata": {},
   "source": [
    "# Python Advanced Assignment_15"
   ]
  },
  {
   "cell_type": "markdown",
   "id": "e61b3ea3",
   "metadata": {},
   "source": [
    "### 1. What are the new features added in Python 3.8 version?"
   ]
  },
  {
   "cell_type": "markdown",
   "id": "b247fc34",
   "metadata": {},
   "source": [
    "##### ANSWER:"
   ]
  },
  {
   "cell_type": "markdown",
   "id": "7b156a22",
   "metadata": {},
   "source": [
    "The following are some of the new features added in Python 3.8 version__:__\n",
    "\n",
    "\n",
    "- __Walrus Operator:__ This operator is used to assign and return a value in the same expression. This removes the need for initializing the variable upfront. The major benefit of this is it saves some lines of code. It is also known as __``The Walrus Operator``__ due to its similarity to the eyes and tusks of a walrus.\n",
    "\n",
    "\n",
    "- __``yield`` and ``return``__: These statements do not require parentheses to return multiple values.\n",
    "\n",
    "\n",
    "- __Reversed support for Dictionary:__ Reversed works with a dictionary. The built-in method __``reversed()``__ can be used for accessing the elements in the reverse order of insertion.\n",
    "\n",
    "\n",
    "- __Dict Comprehensions:__ Dictionary Comprehensions have been modified so that the key is computed first and the value second.\n",
    "\n",
    "\n",
    "- __``importlib_metadata``:__  This is a new library added in the Python’s standard utility modules, that provides an API for accessing an installed package’s metadata, such as its entry points or its top-level name.\n",
    "\n",
    "\n",
    "- __``F-strings support for =``:__ f-strings now support __``=``__ , to make string interpolation easy. Python 3.8 allows the use of the above-discussed assignment operator and equal sign __``(=)``__ inside the f-strings.\n",
    "\n",
    "\n",
    "- __``pow()``:__ In the three-argument form of __``pow()``__, when the exponent is -1, it calculates the modular multiplicative inverse of the given value.\n",
    "\n",
    "- __``csv.DictReader``:__ The __``csv.DictReader``__ now returns instances of dictionary instead of a __``collections.OrderedDict``__.\n",
    "\n",
    "- __Informative Syntax Warning:__ If you miss a comma in your code such as __``a = [(1, 2) (3, 4)]``__, instead of throwing __TypeError__, it displays an __Informative Syntax Warning__."
   ]
  },
  {
   "cell_type": "markdown",
   "id": "796eb0d2",
   "metadata": {},
   "source": [
    "__For Example:__"
   ]
  },
  {
   "cell_type": "code",
   "execution_count": 5,
   "id": "89fb6611",
   "metadata": {},
   "outputs": [
    {
     "name": "stdout",
     "output_type": "stream",
     "text": [
      "15\n"
     ]
    }
   ],
   "source": [
    "# Example of Walrus Operator\n",
    "\n",
    "if (sum := 10 + 5) > 10: # its always recommended to use paranthesis with walrus operator\n",
    "    print(sum) "
   ]
  },
  {
   "cell_type": "code",
   "execution_count": 7,
   "id": "19756675",
   "metadata": {},
   "outputs": [
    {
     "name": "stdout",
     "output_type": "stream",
     "text": [
      "('Hello', 'Good Morning')\n",
      "(0, 0) (1, 1) (2, 4) (3, 9) (4, 16) \n"
     ]
    }
   ],
   "source": [
    "# Example of yield and return\n",
    "\n",
    "def hello():\n",
    "    return 'Hello','Good Morning'\n",
    "print(hello())\n",
    "\n",
    "def count():\n",
    "    for i in range(5):\n",
    "        yield i,i**2\n",
    "for j in count():\n",
    "    print(j, end=\" \")\n",
    "print()"
   ]
  },
  {
   "cell_type": "code",
   "execution_count": 10,
   "id": "122999de",
   "metadata": {},
   "outputs": [
    {
     "name": "stdout",
     "output_type": "stream",
     "text": [
      "Role:\"Data Scientist\"\n",
      "Name:\"XYZ ABC\"\n"
     ]
    }
   ],
   "source": [
    "# Example of Reversed Support for dict\n",
    "\n",
    "t_dict = {\"Name\":\"XYZ ABC\",\"Role\":\"Data Scientist\"}\n",
    "for i in reversed(t_dict):\n",
    "    print(f'{i}:\"{t_dict[i]}\"')"
   ]
  },
  {
   "cell_type": "code",
   "execution_count": 11,
   "id": "63741654",
   "metadata": {},
   "outputs": [
    {
     "name": "stdout",
     "output_type": "stream",
     "text": [
      "The length of string is len_string = 31\n"
     ]
    }
   ],
   "source": [
    "# Example of using '=' in F-strings\n",
    "\n",
    "len_string = len(\"Ineuron Full Stack Data Science\")\n",
    "print(f'The length of string is {len_string = }')"
   ]
  },
  {
   "cell_type": "code",
   "execution_count": 12,
   "id": "d67d4bb4",
   "metadata": {},
   "outputs": [
    {
     "name": "stderr",
     "output_type": "stream",
     "text": [
      "<>:3: SyntaxWarning: 'tuple' object is not callable; perhaps you missed a comma?\n",
      "<>:3: SyntaxWarning: 'tuple' object is not callable; perhaps you missed a comma?\n",
      "C:\\Users\\COMPUT~1\\AppData\\Local\\Temp/ipykernel_25960/3948063384.py:3: SyntaxWarning: 'tuple' object is not callable; perhaps you missed a comma?\n",
      "  lst = [(1,2) (3,4)]\n"
     ]
    },
    {
     "ename": "TypeError",
     "evalue": "'tuple' object is not callable",
     "output_type": "error",
     "traceback": [
      "\u001b[1;31m---------------------------------------------------------------------------\u001b[0m",
      "\u001b[1;31mTypeError\u001b[0m                                 Traceback (most recent call last)",
      "\u001b[1;32mC:\\Users\\COMPUT~1\\AppData\\Local\\Temp/ipykernel_25960/3948063384.py\u001b[0m in \u001b[0;36m<module>\u001b[1;34m\u001b[0m\n\u001b[0;32m      1\u001b[0m \u001b[1;31m# Example of Infomrative syntax instead of synatx error when missing comma\u001b[0m\u001b[1;33m\u001b[0m\u001b[1;33m\u001b[0m\u001b[0m\n\u001b[0;32m      2\u001b[0m \u001b[1;33m\u001b[0m\u001b[0m\n\u001b[1;32m----> 3\u001b[1;33m \u001b[0mlst\u001b[0m \u001b[1;33m=\u001b[0m \u001b[1;33m[\u001b[0m\u001b[1;33m(\u001b[0m\u001b[1;36m1\u001b[0m\u001b[1;33m,\u001b[0m\u001b[1;36m2\u001b[0m\u001b[1;33m)\u001b[0m \u001b[1;33m(\u001b[0m\u001b[1;36m3\u001b[0m\u001b[1;33m,\u001b[0m\u001b[1;36m4\u001b[0m\u001b[1;33m)\u001b[0m\u001b[1;33m]\u001b[0m\u001b[1;33m\u001b[0m\u001b[1;33m\u001b[0m\u001b[0m\n\u001b[0m",
      "\u001b[1;31mTypeError\u001b[0m: 'tuple' object is not callable"
     ]
    }
   ],
   "source": [
    "# Example of Infomrative syntax instead of synatx error when missing comma\n",
    "\n",
    "lst = [(1,2) (3,4)]"
   ]
  },
  {
   "cell_type": "markdown",
   "id": "80a09c4f",
   "metadata": {},
   "source": [
    "### 2. What is monkey patching in Python?"
   ]
  },
  {
   "cell_type": "markdown",
   "id": "b405aee1",
   "metadata": {},
   "source": [
    "##### ANSWER:"
   ]
  },
  {
   "cell_type": "markdown",
   "id": "771ee598",
   "metadata": {},
   "source": [
    "In Python, the term __Monkey Patch__ refers to dynamic (or run-time) modifications of a class or module. In Python, we can actually change the behavior of code at run-time."
   ]
  },
  {
   "cell_type": "markdown",
   "id": "1ac90407",
   "metadata": {},
   "source": [
    "___For example:___"
   ]
  },
  {
   "cell_type": "code",
   "execution_count": 1,
   "id": "8cb8b78a",
   "metadata": {},
   "outputs": [
    {
     "name": "stdout",
     "output_type": "stream",
     "text": [
      "monkey_f() is being called\n"
     ]
    }
   ],
   "source": [
    "class A:\n",
    "    def func(self):\n",
    "        print(\"func() is being called\")\n",
    "\n",
    "def monkey_f(self):\n",
    "    print(\"monkey_f() is being called\")\n",
    "\n",
    "A.func = monkey_f\n",
    "some_object = A()\n",
    "some_object.func()"
   ]
  },
  {
   "cell_type": "markdown",
   "id": "989c2df2",
   "metadata": {},
   "source": [
    "### 3. What is the difference between a shallow copy and deep copy?"
   ]
  },
  {
   "cell_type": "markdown",
   "id": "f62bc52f",
   "metadata": {},
   "source": [
    "##### ANSWER:"
   ]
  },
  {
   "cell_type": "markdown",
   "id": "0290f63d",
   "metadata": {},
   "source": [
    "The following are the differences between a ___Shallow Copy___ and ___Deep Copy___ __:__\n",
    "\n",
    "\n",
    "- When an object is copied using __``copy()``__, it is called Shallow Copy whereas when an object is copied using __``deepcopy()``__, it is called Deep Copy.\n",
    "    \n",
    "\n",
    "- Shallow Copy stores the references of objects to the original memory address whereas Deep Copy stores copies of the object’s value.\n",
    "\n",
    "\n",
    "- Shallow copy is faster whereas Deep Copy is comparatively slower.\n",
    "\n",
    "\n",
    "- Shallow Copy reflects changes made to the new/copied object in the original object whereas Deep Copy doesn’t reflect changes made to the new/copied object in the original object.\n",
    "\n",
    "\n",
    "- Shallow Copy stores the copy of the original object and points the references to the objects whereas Deep Copy stores the copy of the original object and recursively copies the objects as well."
   ]
  },
  {
   "cell_type": "markdown",
   "id": "f61f64a1",
   "metadata": {},
   "source": [
    "___For Example:___"
   ]
  },
  {
   "cell_type": "code",
   "execution_count": 2,
   "id": "f6aa9e51",
   "metadata": {},
   "outputs": [
    {
     "name": "stdout",
     "output_type": "stream",
     "text": [
      "Original Elements of each List\n",
      "[1, 2, [3, 4], 5, 6]\n",
      "[1, 2, [3, 4], 5, 6]\n",
      "[1, 2, [3, 4], 5, 6]\n",
      "New Elements of each List\n",
      "[1, 2, [3, 4], 5, 20]\n",
      "[10, 2, [3, 4], 5, 6]\n",
      "[1, 2, [3, 4], 5, 20]\n"
     ]
    }
   ],
   "source": [
    "from copy import deepcopy, copy\n",
    "\n",
    "l_one = [1,2,[3,4],5,6]\n",
    "l_two = deepcopy(l_one)\n",
    "l_three = l_one\n",
    "print(f'Original Elements of each List\\n{l_one}\\n{l_two}\\n{l_three}')\n",
    "\n",
    "l_two[0] = 10\n",
    "l_three[-1] = 20\n",
    "print(f'New Elements of each List\\n{l_one}\\n{l_two}\\n{l_three}')"
   ]
  },
  {
   "cell_type": "markdown",
   "id": "b6c89107",
   "metadata": {},
   "source": [
    "### 4. What is the maximum possible length of an identifier?"
   ]
  },
  {
   "cell_type": "markdown",
   "id": "1bf96fa7",
   "metadata": {},
   "source": [
    "##### ANSWER:"
   ]
  },
  {
   "cell_type": "markdown",
   "id": "36a7af68",
   "metadata": {},
   "source": [
    "__In Python, the highest possible length of an identifier is__ __``79 characters``__. Python is a high level programming language. It’s also a complex form and a collector of waste.\n",
    "\n",
    "\n",
    "- Python, particularly when combined with identifiers, is case-sensitive.\n",
    "\n",
    "\n",
    "- When writing or using identifiers in Python, it has a maximum of 79 characters.\n",
    "\n",
    "\n",
    "- Unlikely, Python gives the identifiers unlimited length.\n",
    "\n",
    "\n",
    "- However, the layout of PEP-8 prevents the user from breaking the rules and includes a 79-character limit."
   ]
  },
  {
   "cell_type": "markdown",
   "id": "1a1b9983",
   "metadata": {},
   "source": [
    "### 5. What is generator comprehension?"
   ]
  },
  {
   "cell_type": "markdown",
   "id": "1532f73e",
   "metadata": {},
   "source": [
    "##### ANSWER:"
   ]
  },
  {
   "cell_type": "markdown",
   "id": "0f5998d1",
   "metadata": {},
   "source": [
    "A ___Generator Comprehension___ is a single-line specification for defining a generator in Python.\n",
    "\n",
    "\n",
    "- It is absolutely essential to learn this syntax in order to write simple and readable code.\n",
    "\n",
    "\n",
    "- Generator comprehension uses round bracket unlike square bracket used in list comprehension.\n",
    "\n",
    "\n",
    "- The generator yields one item at a time and generates item only when in demand. Whereas, in a list comprehension, Python reserves memory for the whole list. Thus, we can say that the generator expressions are memory efficient than the lists."
   ]
  },
  {
   "cell_type": "markdown",
   "id": "72dbd323",
   "metadata": {},
   "source": [
    "___For Example:___"
   ]
  },
  {
   "cell_type": "code",
   "execution_count": 4,
   "id": "c8ced209",
   "metadata": {},
   "outputs": [
    {
     "name": "stdout",
     "output_type": "stream",
     "text": [
      "[0, 1, 2, 3, 4, 5, 6, 7, 8, 9]\n",
      "<generator object <genexpr> at 0x0000012C38004740>\n",
      "0 2 4 6 8 "
     ]
    }
   ],
   "source": [
    "in_list = [x for x in range(10)] # List Comprehension\n",
    "print(in_list)\n",
    "\n",
    "out_gen = (x for x in in_list if x%2 == 0) # Generator Comprehension\n",
    "print(out_gen) # Returns a Generator Object\n",
    "for ele in out_gen:\n",
    "    print(ele, end=\" \")"
   ]
  }
 ],
 "metadata": {
  "kernelspec": {
   "display_name": "Python 3 (ipykernel)",
   "language": "python",
   "name": "python3"
  },
  "language_info": {
   "codemirror_mode": {
    "name": "ipython",
    "version": 3
   },
   "file_extension": ".py",
   "mimetype": "text/x-python",
   "name": "python",
   "nbconvert_exporter": "python",
   "pygments_lexer": "ipython3",
   "version": "3.9.7"
  }
 },
 "nbformat": 4,
 "nbformat_minor": 5
}
